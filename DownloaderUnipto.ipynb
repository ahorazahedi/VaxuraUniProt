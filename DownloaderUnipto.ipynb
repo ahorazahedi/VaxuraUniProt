{
  "nbformat": 4,
  "nbformat_minor": 0,
  "metadata": {
    "colab": {
      "provenance": []
    },
    "kernelspec": {
      "name": "python3",
      "display_name": "Python 3"
    },
    "language_info": {
      "name": "python"
    }
  },
  "cells": [
    {
      "cell_type": "code",
      "source": [
        "!pip install biopython\n",
        "!rm -rf ./VaxuraUniProt\n",
        "!git clone https://github.com/ahorazahedi/VaxuraUniProt.git\n",
        "!python ./VaxuraUniProt/Downloader.py --input /content/VaxuraUniProt/Organisms.txt  --output /content/drive/MyDrive/Vaxura/downloads "
      ],
      "metadata": {
        "colab": {
          "base_uri": "https://localhost:8080/"
        },
        "id": "H06x8-cn1jOn",
        "outputId": "d64af970-bbe3-4ed5-804a-b799ffbaa45b"
      },
      "execution_count": null,
      "outputs": [
        {
          "output_type": "stream",
          "name": "stdout",
          "text": [
            "Looking in indexes: https://pypi.org/simple, https://us-python.pkg.dev/colab-wheels/public/simple/\n",
            "Requirement already satisfied: biopython in /usr/local/lib/python3.10/dist-packages (1.81)\n",
            "Requirement already satisfied: numpy in /usr/local/lib/python3.10/dist-packages (from biopython) (1.22.4)\n",
            "Cloning into 'VaxuraUniProt'...\n",
            "remote: Enumerating objects: 17, done.\u001b[K\n",
            "remote: Counting objects: 100% (17/17), done.\u001b[K\n",
            "remote: Compressing objects: 100% (13/13), done.\u001b[K\n",
            "remote: Total 17 (delta 6), reused 15 (delta 4), pack-reused 0\u001b[K\n",
            "Unpacking objects: 100% (17/17), 5.91 KiB | 1009.00 KiB/s, done.\n",
            "MEOW\n",
            "[1 / 98]:   3% 22/708 [00:17<08:40,  1.32it/s]"
          ]
        }
      ]
    },
    {
      "cell_type": "code",
      "source": [],
      "metadata": {
        "id": "TWW9_t9o-he8"
      },
      "execution_count": null,
      "outputs": []
    }
  ]
}