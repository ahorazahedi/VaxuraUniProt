{
  "nbformat": 4,
  "nbformat_minor": 0,
  "metadata": {
    "colab": {
      "provenance": [],
      "authorship_tag": "ABX9TyO/9uosKBZ62v3r/LnoEdLX",
      "include_colab_link": true
    },
    "kernelspec": {
      "name": "python3",
      "display_name": "Python 3"
    },
    "language_info": {
      "name": "python"
    },
    "widgets": {
      "application/vnd.jupyter.widget-state+json": {
        "4ae634a8bc614018959546d8bd7df924": {
          "model_module": "@jupyter-widgets/controls",
          "model_name": "HBoxModel",
          "model_module_version": "1.5.0",
          "state": {
            "_dom_classes": [],
            "_model_module": "@jupyter-widgets/controls",
            "_model_module_version": "1.5.0",
            "_model_name": "HBoxModel",
            "_view_count": null,
            "_view_module": "@jupyter-widgets/controls",
            "_view_module_version": "1.5.0",
            "_view_name": "HBoxView",
            "box_style": "",
            "children": [
              "IPY_MODEL_4f6a7d1856a84ee38fcbfbafa365a2e9",
              "IPY_MODEL_264989d745814ffda38e7e265cf71c5a",
              "IPY_MODEL_a6a5d2bd3a9547c9a0e5726114bcca4a"
            ],
            "layout": "IPY_MODEL_834dbcf6446c4a7ca14a238237695cb1"
          }
        },
        "4f6a7d1856a84ee38fcbfbafa365a2e9": {
          "model_module": "@jupyter-widgets/controls",
          "model_name": "HTMLModel",
          "model_module_version": "1.5.0",
          "state": {
            "_dom_classes": [],
            "_model_module": "@jupyter-widgets/controls",
            "_model_module_version": "1.5.0",
            "_model_name": "HTMLModel",
            "_view_count": null,
            "_view_module": "@jupyter-widgets/controls",
            "_view_module_version": "1.5.0",
            "_view_name": "HTMLView",
            "description": "",
            "description_tooltip": null,
            "layout": "IPY_MODEL_c86714d497fc487dad9b5848d16a5690",
            "placeholder": "​",
            "style": "IPY_MODEL_465abb1e564e428b83bc343ff40d2b67",
            "value": "Sanity Checking DataLoader 0: 100%"
          }
        },
        "264989d745814ffda38e7e265cf71c5a": {
          "model_module": "@jupyter-widgets/controls",
          "model_name": "FloatProgressModel",
          "model_module_version": "1.5.0",
          "state": {
            "_dom_classes": [],
            "_model_module": "@jupyter-widgets/controls",
            "_model_module_version": "1.5.0",
            "_model_name": "FloatProgressModel",
            "_view_count": null,
            "_view_module": "@jupyter-widgets/controls",
            "_view_module_version": "1.5.0",
            "_view_name": "ProgressView",
            "bar_style": "",
            "description": "",
            "description_tooltip": null,
            "layout": "IPY_MODEL_20d10b82a8aa441fa9a530c6972ea99b",
            "max": 2,
            "min": 0,
            "orientation": "horizontal",
            "style": "IPY_MODEL_ee6b809dff6a42a08a1551356e5b970e",
            "value": 2
          }
        },
        "a6a5d2bd3a9547c9a0e5726114bcca4a": {
          "model_module": "@jupyter-widgets/controls",
          "model_name": "HTMLModel",
          "model_module_version": "1.5.0",
          "state": {
            "_dom_classes": [],
            "_model_module": "@jupyter-widgets/controls",
            "_model_module_version": "1.5.0",
            "_model_name": "HTMLModel",
            "_view_count": null,
            "_view_module": "@jupyter-widgets/controls",
            "_view_module_version": "1.5.0",
            "_view_name": "HTMLView",
            "description": "",
            "description_tooltip": null,
            "layout": "IPY_MODEL_4b96a59372924766999fab918cf508b2",
            "placeholder": "​",
            "style": "IPY_MODEL_b3bb6b45d72c43a8962d82a6046f13ff",
            "value": " 2/2 [01:01&lt;00:00, 30.51s/it]"
          }
        },
        "834dbcf6446c4a7ca14a238237695cb1": {
          "model_module": "@jupyter-widgets/base",
          "model_name": "LayoutModel",
          "model_module_version": "1.2.0",
          "state": {
            "_model_module": "@jupyter-widgets/base",
            "_model_module_version": "1.2.0",
            "_model_name": "LayoutModel",
            "_view_count": null,
            "_view_module": "@jupyter-widgets/base",
            "_view_module_version": "1.2.0",
            "_view_name": "LayoutView",
            "align_content": null,
            "align_items": null,
            "align_self": null,
            "border": null,
            "bottom": null,
            "display": "inline-flex",
            "flex": null,
            "flex_flow": "row wrap",
            "grid_area": null,
            "grid_auto_columns": null,
            "grid_auto_flow": null,
            "grid_auto_rows": null,
            "grid_column": null,
            "grid_gap": null,
            "grid_row": null,
            "grid_template_areas": null,
            "grid_template_columns": null,
            "grid_template_rows": null,
            "height": null,
            "justify_content": null,
            "justify_items": null,
            "left": null,
            "margin": null,
            "max_height": null,
            "max_width": null,
            "min_height": null,
            "min_width": null,
            "object_fit": null,
            "object_position": null,
            "order": null,
            "overflow": null,
            "overflow_x": null,
            "overflow_y": null,
            "padding": null,
            "right": null,
            "top": null,
            "visibility": "hidden",
            "width": "100%"
          }
        },
        "c86714d497fc487dad9b5848d16a5690": {
          "model_module": "@jupyter-widgets/base",
          "model_name": "LayoutModel",
          "model_module_version": "1.2.0",
          "state": {
            "_model_module": "@jupyter-widgets/base",
            "_model_module_version": "1.2.0",
            "_model_name": "LayoutModel",
            "_view_count": null,
            "_view_module": "@jupyter-widgets/base",
            "_view_module_version": "1.2.0",
            "_view_name": "LayoutView",
            "align_content": null,
            "align_items": null,
            "align_self": null,
            "border": null,
            "bottom": null,
            "display": null,
            "flex": null,
            "flex_flow": null,
            "grid_area": null,
            "grid_auto_columns": null,
            "grid_auto_flow": null,
            "grid_auto_rows": null,
            "grid_column": null,
            "grid_gap": null,
            "grid_row": null,
            "grid_template_areas": null,
            "grid_template_columns": null,
            "grid_template_rows": null,
            "height": null,
            "justify_content": null,
            "justify_items": null,
            "left": null,
            "margin": null,
            "max_height": null,
            "max_width": null,
            "min_height": null,
            "min_width": null,
            "object_fit": null,
            "object_position": null,
            "order": null,
            "overflow": null,
            "overflow_x": null,
            "overflow_y": null,
            "padding": null,
            "right": null,
            "top": null,
            "visibility": null,
            "width": null
          }
        },
        "465abb1e564e428b83bc343ff40d2b67": {
          "model_module": "@jupyter-widgets/controls",
          "model_name": "DescriptionStyleModel",
          "model_module_version": "1.5.0",
          "state": {
            "_model_module": "@jupyter-widgets/controls",
            "_model_module_version": "1.5.0",
            "_model_name": "DescriptionStyleModel",
            "_view_count": null,
            "_view_module": "@jupyter-widgets/base",
            "_view_module_version": "1.2.0",
            "_view_name": "StyleView",
            "description_width": ""
          }
        },
        "20d10b82a8aa441fa9a530c6972ea99b": {
          "model_module": "@jupyter-widgets/base",
          "model_name": "LayoutModel",
          "model_module_version": "1.2.0",
          "state": {
            "_model_module": "@jupyter-widgets/base",
            "_model_module_version": "1.2.0",
            "_model_name": "LayoutModel",
            "_view_count": null,
            "_view_module": "@jupyter-widgets/base",
            "_view_module_version": "1.2.0",
            "_view_name": "LayoutView",
            "align_content": null,
            "align_items": null,
            "align_self": null,
            "border": null,
            "bottom": null,
            "display": null,
            "flex": "2",
            "flex_flow": null,
            "grid_area": null,
            "grid_auto_columns": null,
            "grid_auto_flow": null,
            "grid_auto_rows": null,
            "grid_column": null,
            "grid_gap": null,
            "grid_row": null,
            "grid_template_areas": null,
            "grid_template_columns": null,
            "grid_template_rows": null,
            "height": null,
            "justify_content": null,
            "justify_items": null,
            "left": null,
            "margin": null,
            "max_height": null,
            "max_width": null,
            "min_height": null,
            "min_width": null,
            "object_fit": null,
            "object_position": null,
            "order": null,
            "overflow": null,
            "overflow_x": null,
            "overflow_y": null,
            "padding": null,
            "right": null,
            "top": null,
            "visibility": null,
            "width": null
          }
        },
        "ee6b809dff6a42a08a1551356e5b970e": {
          "model_module": "@jupyter-widgets/controls",
          "model_name": "ProgressStyleModel",
          "model_module_version": "1.5.0",
          "state": {
            "_model_module": "@jupyter-widgets/controls",
            "_model_module_version": "1.5.0",
            "_model_name": "ProgressStyleModel",
            "_view_count": null,
            "_view_module": "@jupyter-widgets/base",
            "_view_module_version": "1.2.0",
            "_view_name": "StyleView",
            "bar_color": null,
            "description_width": ""
          }
        },
        "4b96a59372924766999fab918cf508b2": {
          "model_module": "@jupyter-widgets/base",
          "model_name": "LayoutModel",
          "model_module_version": "1.2.0",
          "state": {
            "_model_module": "@jupyter-widgets/base",
            "_model_module_version": "1.2.0",
            "_model_name": "LayoutModel",
            "_view_count": null,
            "_view_module": "@jupyter-widgets/base",
            "_view_module_version": "1.2.0",
            "_view_name": "LayoutView",
            "align_content": null,
            "align_items": null,
            "align_self": null,
            "border": null,
            "bottom": null,
            "display": null,
            "flex": null,
            "flex_flow": null,
            "grid_area": null,
            "grid_auto_columns": null,
            "grid_auto_flow": null,
            "grid_auto_rows": null,
            "grid_column": null,
            "grid_gap": null,
            "grid_row": null,
            "grid_template_areas": null,
            "grid_template_columns": null,
            "grid_template_rows": null,
            "height": null,
            "justify_content": null,
            "justify_items": null,
            "left": null,
            "margin": null,
            "max_height": null,
            "max_width": null,
            "min_height": null,
            "min_width": null,
            "object_fit": null,
            "object_position": null,
            "order": null,
            "overflow": null,
            "overflow_x": null,
            "overflow_y": null,
            "padding": null,
            "right": null,
            "top": null,
            "visibility": null,
            "width": null
          }
        },
        "b3bb6b45d72c43a8962d82a6046f13ff": {
          "model_module": "@jupyter-widgets/controls",
          "model_name": "DescriptionStyleModel",
          "model_module_version": "1.5.0",
          "state": {
            "_model_module": "@jupyter-widgets/controls",
            "_model_module_version": "1.5.0",
            "_model_name": "DescriptionStyleModel",
            "_view_count": null,
            "_view_module": "@jupyter-widgets/base",
            "_view_module_version": "1.2.0",
            "_view_name": "StyleView",
            "description_width": ""
          }
        },
        "421a7237b44e4955bec3edc0f4f18832": {
          "model_module": "@jupyter-widgets/controls",
          "model_name": "HBoxModel",
          "model_module_version": "1.5.0",
          "state": {
            "_dom_classes": [],
            "_model_module": "@jupyter-widgets/controls",
            "_model_module_version": "1.5.0",
            "_model_name": "HBoxModel",
            "_view_count": null,
            "_view_module": "@jupyter-widgets/controls",
            "_view_module_version": "1.5.0",
            "_view_name": "HBoxView",
            "box_style": "",
            "children": [
              "IPY_MODEL_752aec6e391a40609943a001a9a09a06",
              "IPY_MODEL_be1fae507c074e7dbaf301c76cac391d",
              "IPY_MODEL_5a70dfade70145bdb60f70369717ee19"
            ],
            "layout": "IPY_MODEL_8688dcbcb1fa4234aee27286948835f1"
          }
        },
        "752aec6e391a40609943a001a9a09a06": {
          "model_module": "@jupyter-widgets/controls",
          "model_name": "HTMLModel",
          "model_module_version": "1.5.0",
          "state": {
            "_dom_classes": [],
            "_model_module": "@jupyter-widgets/controls",
            "_model_module_version": "1.5.0",
            "_model_name": "HTMLModel",
            "_view_count": null,
            "_view_module": "@jupyter-widgets/controls",
            "_view_module_version": "1.5.0",
            "_view_name": "HTMLView",
            "description": "",
            "description_tooltip": null,
            "layout": "IPY_MODEL_cfae6c6a64214cd0a7ef22dfd1c985c3",
            "placeholder": "​",
            "style": "IPY_MODEL_300608581cc341a2901e56588e54a5a4",
            "value": "Epoch 0:   0%"
          }
        },
        "be1fae507c074e7dbaf301c76cac391d": {
          "model_module": "@jupyter-widgets/controls",
          "model_name": "FloatProgressModel",
          "model_module_version": "1.5.0",
          "state": {
            "_dom_classes": [],
            "_model_module": "@jupyter-widgets/controls",
            "_model_module_version": "1.5.0",
            "_model_name": "FloatProgressModel",
            "_view_count": null,
            "_view_module": "@jupyter-widgets/controls",
            "_view_module_version": "1.5.0",
            "_view_name": "ProgressView",
            "bar_style": "",
            "description": "",
            "description_tooltip": null,
            "layout": "IPY_MODEL_e11fae4046884f2bb1d10aa9f3d4acab",
            "max": 130190,
            "min": 0,
            "orientation": "horizontal",
            "style": "IPY_MODEL_50c45781447744b8910b5f45007dfcf9",
            "value": 0
          }
        },
        "5a70dfade70145bdb60f70369717ee19": {
          "model_module": "@jupyter-widgets/controls",
          "model_name": "HTMLModel",
          "model_module_version": "1.5.0",
          "state": {
            "_dom_classes": [],
            "_model_module": "@jupyter-widgets/controls",
            "_model_module_version": "1.5.0",
            "_model_name": "HTMLModel",
            "_view_count": null,
            "_view_module": "@jupyter-widgets/controls",
            "_view_module_version": "1.5.0",
            "_view_name": "HTMLView",
            "description": "",
            "description_tooltip": null,
            "layout": "IPY_MODEL_7a1caf10836f4835856e345f02e5f09f",
            "placeholder": "​",
            "style": "IPY_MODEL_71f1e59ceb694575a67b6699ff7322ba",
            "value": " 0/130190 [00:00&lt;?, ?it/s]"
          }
        },
        "8688dcbcb1fa4234aee27286948835f1": {
          "model_module": "@jupyter-widgets/base",
          "model_name": "LayoutModel",
          "model_module_version": "1.2.0",
          "state": {
            "_model_module": "@jupyter-widgets/base",
            "_model_module_version": "1.2.0",
            "_model_name": "LayoutModel",
            "_view_count": null,
            "_view_module": "@jupyter-widgets/base",
            "_view_module_version": "1.2.0",
            "_view_name": "LayoutView",
            "align_content": null,
            "align_items": null,
            "align_self": null,
            "border": null,
            "bottom": null,
            "display": "inline-flex",
            "flex": null,
            "flex_flow": "row wrap",
            "grid_area": null,
            "grid_auto_columns": null,
            "grid_auto_flow": null,
            "grid_auto_rows": null,
            "grid_column": null,
            "grid_gap": null,
            "grid_row": null,
            "grid_template_areas": null,
            "grid_template_columns": null,
            "grid_template_rows": null,
            "height": null,
            "justify_content": null,
            "justify_items": null,
            "left": null,
            "margin": null,
            "max_height": null,
            "max_width": null,
            "min_height": null,
            "min_width": null,
            "object_fit": null,
            "object_position": null,
            "order": null,
            "overflow": null,
            "overflow_x": null,
            "overflow_y": null,
            "padding": null,
            "right": null,
            "top": null,
            "visibility": null,
            "width": "100%"
          }
        },
        "cfae6c6a64214cd0a7ef22dfd1c985c3": {
          "model_module": "@jupyter-widgets/base",
          "model_name": "LayoutModel",
          "model_module_version": "1.2.0",
          "state": {
            "_model_module": "@jupyter-widgets/base",
            "_model_module_version": "1.2.0",
            "_model_name": "LayoutModel",
            "_view_count": null,
            "_view_module": "@jupyter-widgets/base",
            "_view_module_version": "1.2.0",
            "_view_name": "LayoutView",
            "align_content": null,
            "align_items": null,
            "align_self": null,
            "border": null,
            "bottom": null,
            "display": null,
            "flex": null,
            "flex_flow": null,
            "grid_area": null,
            "grid_auto_columns": null,
            "grid_auto_flow": null,
            "grid_auto_rows": null,
            "grid_column": null,
            "grid_gap": null,
            "grid_row": null,
            "grid_template_areas": null,
            "grid_template_columns": null,
            "grid_template_rows": null,
            "height": null,
            "justify_content": null,
            "justify_items": null,
            "left": null,
            "margin": null,
            "max_height": null,
            "max_width": null,
            "min_height": null,
            "min_width": null,
            "object_fit": null,
            "object_position": null,
            "order": null,
            "overflow": null,
            "overflow_x": null,
            "overflow_y": null,
            "padding": null,
            "right": null,
            "top": null,
            "visibility": null,
            "width": null
          }
        },
        "300608581cc341a2901e56588e54a5a4": {
          "model_module": "@jupyter-widgets/controls",
          "model_name": "DescriptionStyleModel",
          "model_module_version": "1.5.0",
          "state": {
            "_model_module": "@jupyter-widgets/controls",
            "_model_module_version": "1.5.0",
            "_model_name": "DescriptionStyleModel",
            "_view_count": null,
            "_view_module": "@jupyter-widgets/base",
            "_view_module_version": "1.2.0",
            "_view_name": "StyleView",
            "description_width": ""
          }
        },
        "e11fae4046884f2bb1d10aa9f3d4acab": {
          "model_module": "@jupyter-widgets/base",
          "model_name": "LayoutModel",
          "model_module_version": "1.2.0",
          "state": {
            "_model_module": "@jupyter-widgets/base",
            "_model_module_version": "1.2.0",
            "_model_name": "LayoutModel",
            "_view_count": null,
            "_view_module": "@jupyter-widgets/base",
            "_view_module_version": "1.2.0",
            "_view_name": "LayoutView",
            "align_content": null,
            "align_items": null,
            "align_self": null,
            "border": null,
            "bottom": null,
            "display": null,
            "flex": "2",
            "flex_flow": null,
            "grid_area": null,
            "grid_auto_columns": null,
            "grid_auto_flow": null,
            "grid_auto_rows": null,
            "grid_column": null,
            "grid_gap": null,
            "grid_row": null,
            "grid_template_areas": null,
            "grid_template_columns": null,
            "grid_template_rows": null,
            "height": null,
            "justify_content": null,
            "justify_items": null,
            "left": null,
            "margin": null,
            "max_height": null,
            "max_width": null,
            "min_height": null,
            "min_width": null,
            "object_fit": null,
            "object_position": null,
            "order": null,
            "overflow": null,
            "overflow_x": null,
            "overflow_y": null,
            "padding": null,
            "right": null,
            "top": null,
            "visibility": null,
            "width": null
          }
        },
        "50c45781447744b8910b5f45007dfcf9": {
          "model_module": "@jupyter-widgets/controls",
          "model_name": "ProgressStyleModel",
          "model_module_version": "1.5.0",
          "state": {
            "_model_module": "@jupyter-widgets/controls",
            "_model_module_version": "1.5.0",
            "_model_name": "ProgressStyleModel",
            "_view_count": null,
            "_view_module": "@jupyter-widgets/base",
            "_view_module_version": "1.2.0",
            "_view_name": "StyleView",
            "bar_color": null,
            "description_width": ""
          }
        },
        "7a1caf10836f4835856e345f02e5f09f": {
          "model_module": "@jupyter-widgets/base",
          "model_name": "LayoutModel",
          "model_module_version": "1.2.0",
          "state": {
            "_model_module": "@jupyter-widgets/base",
            "_model_module_version": "1.2.0",
            "_model_name": "LayoutModel",
            "_view_count": null,
            "_view_module": "@jupyter-widgets/base",
            "_view_module_version": "1.2.0",
            "_view_name": "LayoutView",
            "align_content": null,
            "align_items": null,
            "align_self": null,
            "border": null,
            "bottom": null,
            "display": null,
            "flex": null,
            "flex_flow": null,
            "grid_area": null,
            "grid_auto_columns": null,
            "grid_auto_flow": null,
            "grid_auto_rows": null,
            "grid_column": null,
            "grid_gap": null,
            "grid_row": null,
            "grid_template_areas": null,
            "grid_template_columns": null,
            "grid_template_rows": null,
            "height": null,
            "justify_content": null,
            "justify_items": null,
            "left": null,
            "margin": null,
            "max_height": null,
            "max_width": null,
            "min_height": null,
            "min_width": null,
            "object_fit": null,
            "object_position": null,
            "order": null,
            "overflow": null,
            "overflow_x": null,
            "overflow_y": null,
            "padding": null,
            "right": null,
            "top": null,
            "visibility": null,
            "width": null
          }
        },
        "71f1e59ceb694575a67b6699ff7322ba": {
          "model_module": "@jupyter-widgets/controls",
          "model_name": "DescriptionStyleModel",
          "model_module_version": "1.5.0",
          "state": {
            "_model_module": "@jupyter-widgets/controls",
            "_model_module_version": "1.5.0",
            "_model_name": "DescriptionStyleModel",
            "_view_count": null,
            "_view_module": "@jupyter-widgets/base",
            "_view_module_version": "1.2.0",
            "_view_name": "StyleView",
            "description_width": ""
          }
        }
      }
    }
  },
  "cells": [
    {
      "cell_type": "markdown",
      "metadata": {
        "id": "view-in-github",
        "colab_type": "text"
      },
      "source": [
        "<a href=\"https://colab.research.google.com/github/ahorazahedi/VaxuraUniProt/blob/master/MHC_PlayGround.ipynb\" target=\"_parent\"><img src=\"https://colab.research.google.com/assets/colab-badge.svg\" alt=\"Open In Colab\"/></a>"
      ]
    },
    {
      "cell_type": "code",
      "execution_count": 91,
      "metadata": {
        "colab": {
          "base_uri": "https://localhost:8080/"
        },
        "id": "2mbBYX020Ofx",
        "outputId": "bc780bfc-6759-4e4d-e112-558bbc663bb3"
      },
      "outputs": [
        {
          "output_type": "stream",
          "name": "stdout",
          "text": [
            "Looking in indexes: https://pypi.org/simple, https://us-python.pkg.dev/colab-wheels/public/simple/\n",
            "Requirement already satisfied: pytorch-lightning in /usr/local/lib/python3.10/dist-packages (2.0.4)\n",
            "Requirement already satisfied: numpy>=1.17.2 in /usr/local/lib/python3.10/dist-packages (from pytorch-lightning) (1.22.4)\n",
            "Requirement already satisfied: torch>=1.11.0 in /usr/local/lib/python3.10/dist-packages (from pytorch-lightning) (2.0.1+cu118)\n",
            "Requirement already satisfied: tqdm>=4.57.0 in /usr/local/lib/python3.10/dist-packages (from pytorch-lightning) (4.65.0)\n",
            "Requirement already satisfied: PyYAML>=5.4 in /usr/local/lib/python3.10/dist-packages (from pytorch-lightning) (6.0)\n",
            "Requirement already satisfied: fsspec[http]>2021.06.0 in /usr/local/lib/python3.10/dist-packages (from pytorch-lightning) (2023.4.0)\n",
            "Requirement already satisfied: torchmetrics>=0.7.0 in /usr/local/lib/python3.10/dist-packages (from pytorch-lightning) (0.11.4)\n",
            "Requirement already satisfied: packaging>=17.1 in /usr/local/lib/python3.10/dist-packages (from pytorch-lightning) (23.1)\n",
            "Requirement already satisfied: typing-extensions>=4.0.0 in /usr/local/lib/python3.10/dist-packages (from pytorch-lightning) (4.5.0)\n",
            "Requirement already satisfied: lightning-utilities>=0.7.0 in /usr/local/lib/python3.10/dist-packages (from pytorch-lightning) (0.8.0)\n",
            "Requirement already satisfied: requests in /usr/local/lib/python3.10/dist-packages (from fsspec[http]>2021.06.0->pytorch-lightning) (2.27.1)\n",
            "Requirement already satisfied: aiohttp!=4.0.0a0,!=4.0.0a1 in /usr/local/lib/python3.10/dist-packages (from fsspec[http]>2021.06.0->pytorch-lightning) (3.8.4)\n",
            "Requirement already satisfied: filelock in /usr/local/lib/python3.10/dist-packages (from torch>=1.11.0->pytorch-lightning) (3.12.0)\n",
            "Requirement already satisfied: sympy in /usr/local/lib/python3.10/dist-packages (from torch>=1.11.0->pytorch-lightning) (1.11.1)\n",
            "Requirement already satisfied: networkx in /usr/local/lib/python3.10/dist-packages (from torch>=1.11.0->pytorch-lightning) (3.1)\n",
            "Requirement already satisfied: jinja2 in /usr/local/lib/python3.10/dist-packages (from torch>=1.11.0->pytorch-lightning) (3.1.2)\n",
            "Requirement already satisfied: triton==2.0.0 in /usr/local/lib/python3.10/dist-packages (from torch>=1.11.0->pytorch-lightning) (2.0.0)\n",
            "Requirement already satisfied: cmake in /usr/local/lib/python3.10/dist-packages (from triton==2.0.0->torch>=1.11.0->pytorch-lightning) (3.25.2)\n",
            "Requirement already satisfied: lit in /usr/local/lib/python3.10/dist-packages (from triton==2.0.0->torch>=1.11.0->pytorch-lightning) (16.0.5)\n",
            "Requirement already satisfied: attrs>=17.3.0 in /usr/local/lib/python3.10/dist-packages (from aiohttp!=4.0.0a0,!=4.0.0a1->fsspec[http]>2021.06.0->pytorch-lightning) (23.1.0)\n",
            "Requirement already satisfied: charset-normalizer<4.0,>=2.0 in /usr/local/lib/python3.10/dist-packages (from aiohttp!=4.0.0a0,!=4.0.0a1->fsspec[http]>2021.06.0->pytorch-lightning) (2.0.12)\n",
            "Requirement already satisfied: multidict<7.0,>=4.5 in /usr/local/lib/python3.10/dist-packages (from aiohttp!=4.0.0a0,!=4.0.0a1->fsspec[http]>2021.06.0->pytorch-lightning) (6.0.4)\n",
            "Requirement already satisfied: async-timeout<5.0,>=4.0.0a3 in /usr/local/lib/python3.10/dist-packages (from aiohttp!=4.0.0a0,!=4.0.0a1->fsspec[http]>2021.06.0->pytorch-lightning) (4.0.2)\n",
            "Requirement already satisfied: yarl<2.0,>=1.0 in /usr/local/lib/python3.10/dist-packages (from aiohttp!=4.0.0a0,!=4.0.0a1->fsspec[http]>2021.06.0->pytorch-lightning) (1.9.2)\n",
            "Requirement already satisfied: frozenlist>=1.1.1 in /usr/local/lib/python3.10/dist-packages (from aiohttp!=4.0.0a0,!=4.0.0a1->fsspec[http]>2021.06.0->pytorch-lightning) (1.3.3)\n",
            "Requirement already satisfied: aiosignal>=1.1.2 in /usr/local/lib/python3.10/dist-packages (from aiohttp!=4.0.0a0,!=4.0.0a1->fsspec[http]>2021.06.0->pytorch-lightning) (1.3.1)\n",
            "Requirement already satisfied: MarkupSafe>=2.0 in /usr/local/lib/python3.10/dist-packages (from jinja2->torch>=1.11.0->pytorch-lightning) (2.1.2)\n",
            "Requirement already satisfied: urllib3<1.27,>=1.21.1 in /usr/local/lib/python3.10/dist-packages (from requests->fsspec[http]>2021.06.0->pytorch-lightning) (1.26.15)\n",
            "Requirement already satisfied: certifi>=2017.4.17 in /usr/local/lib/python3.10/dist-packages (from requests->fsspec[http]>2021.06.0->pytorch-lightning) (2022.12.7)\n",
            "Requirement already satisfied: idna<4,>=2.5 in /usr/local/lib/python3.10/dist-packages (from requests->fsspec[http]>2021.06.0->pytorch-lightning) (3.4)\n",
            "Requirement already satisfied: mpmath>=0.19 in /usr/local/lib/python3.10/dist-packages (from sympy->torch>=1.11.0->pytorch-lightning) (1.3.0)\n",
            "Looking in indexes: https://pypi.org/simple, https://us-python.pkg.dev/colab-wheels/public/simple/\n",
            "Requirement already satisfied: transformers in /usr/local/lib/python3.10/dist-packages (4.30.2)\n",
            "Requirement already satisfied: filelock in /usr/local/lib/python3.10/dist-packages (from transformers) (3.12.0)\n",
            "Requirement already satisfied: huggingface-hub<1.0,>=0.14.1 in /usr/local/lib/python3.10/dist-packages (from transformers) (0.15.1)\n",
            "Requirement already satisfied: numpy>=1.17 in /usr/local/lib/python3.10/dist-packages (from transformers) (1.22.4)\n",
            "Requirement already satisfied: packaging>=20.0 in /usr/local/lib/python3.10/dist-packages (from transformers) (23.1)\n",
            "Requirement already satisfied: pyyaml>=5.1 in /usr/local/lib/python3.10/dist-packages (from transformers) (6.0)\n",
            "Requirement already satisfied: regex!=2019.12.17 in /usr/local/lib/python3.10/dist-packages (from transformers) (2022.10.31)\n",
            "Requirement already satisfied: requests in /usr/local/lib/python3.10/dist-packages (from transformers) (2.27.1)\n",
            "Requirement already satisfied: tokenizers!=0.11.3,<0.14,>=0.11.1 in /usr/local/lib/python3.10/dist-packages (from transformers) (0.13.3)\n",
            "Requirement already satisfied: safetensors>=0.3.1 in /usr/local/lib/python3.10/dist-packages (from transformers) (0.3.1)\n",
            "Requirement already satisfied: tqdm>=4.27 in /usr/local/lib/python3.10/dist-packages (from transformers) (4.65.0)\n",
            "Requirement already satisfied: fsspec in /usr/local/lib/python3.10/dist-packages (from huggingface-hub<1.0,>=0.14.1->transformers) (2023.4.0)\n",
            "Requirement already satisfied: typing-extensions>=3.7.4.3 in /usr/local/lib/python3.10/dist-packages (from huggingface-hub<1.0,>=0.14.1->transformers) (4.5.0)\n",
            "Requirement already satisfied: urllib3<1.27,>=1.21.1 in /usr/local/lib/python3.10/dist-packages (from requests->transformers) (1.26.15)\n",
            "Requirement already satisfied: certifi>=2017.4.17 in /usr/local/lib/python3.10/dist-packages (from requests->transformers) (2022.12.7)\n",
            "Requirement already satisfied: charset-normalizer~=2.0.0 in /usr/local/lib/python3.10/dist-packages (from requests->transformers) (2.0.12)\n",
            "Requirement already satisfied: idna<4,>=2.5 in /usr/local/lib/python3.10/dist-packages (from requests->transformers) (3.4)\n",
            "Looking in indexes: https://pypi.org/simple, https://us-python.pkg.dev/colab-wheels/public/simple/\n",
            "Requirement already satisfied: PyTDC in /usr/local/lib/python3.10/dist-packages (0.4.0)\n",
            "Requirement already satisfied: rdkit-pypi in /usr/local/lib/python3.10/dist-packages (from PyTDC) (2022.9.5)\n",
            "Requirement already satisfied: fuzzywuzzy in /usr/local/lib/python3.10/dist-packages (from PyTDC) (0.18.0)\n",
            "Requirement already satisfied: numpy in /usr/local/lib/python3.10/dist-packages (from PyTDC) (1.22.4)\n",
            "Requirement already satisfied: pandas in /usr/local/lib/python3.10/dist-packages (from PyTDC) (1.5.3)\n",
            "Requirement already satisfied: tqdm in /usr/local/lib/python3.10/dist-packages (from PyTDC) (4.65.0)\n",
            "Requirement already satisfied: scikit-learn in /usr/local/lib/python3.10/dist-packages (from PyTDC) (1.2.2)\n",
            "Requirement already satisfied: seaborn in /usr/local/lib/python3.10/dist-packages (from PyTDC) (0.12.2)\n",
            "Requirement already satisfied: requests in /usr/local/lib/python3.10/dist-packages (from PyTDC) (2.27.1)\n",
            "Requirement already satisfied: huggingface-hub in /usr/local/lib/python3.10/dist-packages (from PyTDC) (0.15.1)\n",
            "Requirement already satisfied: dataclasses in /usr/local/lib/python3.10/dist-packages (from PyTDC) (0.6)\n",
            "Requirement already satisfied: filelock in /usr/local/lib/python3.10/dist-packages (from huggingface-hub->PyTDC) (3.12.0)\n",
            "Requirement already satisfied: fsspec in /usr/local/lib/python3.10/dist-packages (from huggingface-hub->PyTDC) (2023.4.0)\n",
            "Requirement already satisfied: pyyaml>=5.1 in /usr/local/lib/python3.10/dist-packages (from huggingface-hub->PyTDC) (6.0)\n",
            "Requirement already satisfied: typing-extensions>=3.7.4.3 in /usr/local/lib/python3.10/dist-packages (from huggingface-hub->PyTDC) (4.5.0)\n",
            "Requirement already satisfied: packaging>=20.9 in /usr/local/lib/python3.10/dist-packages (from huggingface-hub->PyTDC) (23.1)\n",
            "Requirement already satisfied: python-dateutil>=2.8.1 in /usr/local/lib/python3.10/dist-packages (from pandas->PyTDC) (2.8.2)\n",
            "Requirement already satisfied: pytz>=2020.1 in /usr/local/lib/python3.10/dist-packages (from pandas->PyTDC) (2022.7.1)\n",
            "Requirement already satisfied: Pillow in /usr/local/lib/python3.10/dist-packages (from rdkit-pypi->PyTDC) (8.4.0)\n",
            "Requirement already satisfied: urllib3<1.27,>=1.21.1 in /usr/local/lib/python3.10/dist-packages (from requests->PyTDC) (1.26.15)\n",
            "Requirement already satisfied: certifi>=2017.4.17 in /usr/local/lib/python3.10/dist-packages (from requests->PyTDC) (2022.12.7)\n",
            "Requirement already satisfied: charset-normalizer~=2.0.0 in /usr/local/lib/python3.10/dist-packages (from requests->PyTDC) (2.0.12)\n",
            "Requirement already satisfied: idna<4,>=2.5 in /usr/local/lib/python3.10/dist-packages (from requests->PyTDC) (3.4)\n",
            "Requirement already satisfied: scipy>=1.3.2 in /usr/local/lib/python3.10/dist-packages (from scikit-learn->PyTDC) (1.10.1)\n",
            "Requirement already satisfied: joblib>=1.1.1 in /usr/local/lib/python3.10/dist-packages (from scikit-learn->PyTDC) (1.2.0)\n",
            "Requirement already satisfied: threadpoolctl>=2.0.0 in /usr/local/lib/python3.10/dist-packages (from scikit-learn->PyTDC) (3.1.0)\n",
            "Requirement already satisfied: matplotlib!=3.6.1,>=3.1 in /usr/local/lib/python3.10/dist-packages (from seaborn->PyTDC) (3.7.1)\n",
            "Requirement already satisfied: contourpy>=1.0.1 in /usr/local/lib/python3.10/dist-packages (from matplotlib!=3.6.1,>=3.1->seaborn->PyTDC) (1.0.7)\n",
            "Requirement already satisfied: cycler>=0.10 in /usr/local/lib/python3.10/dist-packages (from matplotlib!=3.6.1,>=3.1->seaborn->PyTDC) (0.11.0)\n",
            "Requirement already satisfied: fonttools>=4.22.0 in /usr/local/lib/python3.10/dist-packages (from matplotlib!=3.6.1,>=3.1->seaborn->PyTDC) (4.39.3)\n",
            "Requirement already satisfied: kiwisolver>=1.0.1 in /usr/local/lib/python3.10/dist-packages (from matplotlib!=3.6.1,>=3.1->seaborn->PyTDC) (1.4.4)\n",
            "Requirement already satisfied: pyparsing>=2.3.1 in /usr/local/lib/python3.10/dist-packages (from matplotlib!=3.6.1,>=3.1->seaborn->PyTDC) (3.0.9)\n",
            "Requirement already satisfied: six>=1.5 in /usr/local/lib/python3.10/dist-packages (from python-dateutil>=2.8.1->pandas->PyTDC) (1.16.0)\n"
          ]
        }
      ],
      "source": [
        "!pip install pytorch-lightning\n",
        "!pip install transformers\n",
        "!pip install PyTDC\n",
        "!pip install colorama"
      ]
    },
    {
      "cell_type": "code",
      "source": [
        "from tdc.multi_pred import PeptideMHC\n",
        "data = PeptideMHC(name = 'MHC1_IEDB-IMGT_Nielsen')\n",
        "split = data.get_split()"
      ],
      "metadata": {
        "colab": {
          "base_uri": "https://localhost:8080/"
        },
        "id": "llSLf6u90q9O",
        "outputId": "5cc773ed-ce06-4312-f294-5fb39a04e605"
      },
      "execution_count": 92,
      "outputs": [
        {
          "output_type": "stream",
          "name": "stderr",
          "text": [
            "Found local copy...\n",
            "Loading...\n",
            "Done!\n"
          ]
        }
      ]
    },
    {
      "cell_type": "code",
      "source": [
        "split['train'].head(12)"
      ],
      "metadata": {
        "colab": {
          "base_uri": "https://localhost:8080/",
          "height": 426
        },
        "id": "75gHZExI1imo",
        "outputId": "00c9a8fa-3f65-4f35-fbce-6dbade4bc51b"
      },
      "execution_count": 93,
      "outputs": [
        {
          "output_type": "execute_result",
          "data": {
            "text/plain": [
              "    Peptide_ID    Peptide      MHC_ID                                 MHC  \\\n",
              "0            1  ASYAAAAAY  BoLA-D18.4  YYSEYREISENVYESNLYIAYSDYTWEYLNYRWY   \n",
              "1            2  GMMGGLWKY  BoLA-D18.4  YYSEYREISENVYESNLYIAYSDYTWEYLNYRWY   \n",
              "2            3  KMFHGGLRY  BoLA-D18.4  YYSEYREISENVYESNLYIAYSDYTWEYLNYRWY   \n",
              "3            4  KMLEASTIY  BoLA-D18.4  YYSEYREISENVYESNLYIAYSDYTWEYLNYRWY   \n",
              "4            5  KQLEYSWVL  BoLA-D18.4  YYSEYREISENVYESNLYIAYSDYTWEYLNYRWY   \n",
              "5            6  KQWSWFSLL  BoLA-D18.4  YYSEYREISENVYESNLYIAYSDYTWEYLNYRWY   \n",
              "6            7  MMFDAMGAL  BoLA-D18.4  YYSEYREISENVYESNLYIAYSDYTWEYLNYRWY   \n",
              "7            8  MMMSTAVAF  BoLA-D18.4  YYSEYREISENVYESNLYIAYSDYTWEYLNYRWY   \n",
              "8            9  MTFPVSLEY  BoLA-D18.4  YYSEYREISENVYESNLYIAYSDYTWEYLNYRWY   \n",
              "9           10  RMMGVKYLM  BoLA-D18.4  YYSEYREISENVYESNLYIAYSDYTWEYLNYRWY   \n",
              "10          14  WMYYPRSPV  BoLA-D18.4  YYSEYREISENVYESNLYIAYSDYTWEYLNYRWY   \n",
              "11          15  YVYFYDLSY  BoLA-D18.4  YYSEYREISENVYESNLYIAYSDYTWEYLNYRWY   \n",
              "\n",
              "           Y  \n",
              "0   0.496594  \n",
              "1   0.439136  \n",
              "2   0.898463  \n",
              "3   0.756090  \n",
              "4   0.481554  \n",
              "5   0.451477  \n",
              "6   0.935937  \n",
              "7   0.762939  \n",
              "8   0.485003  \n",
              "9   0.898463  \n",
              "10  0.685650  \n",
              "11  0.246016  "
            ],
            "text/html": [
              "\n",
              "  <div id=\"df-99ecec77-0350-4934-9966-6e620249f402\">\n",
              "    <div class=\"colab-df-container\">\n",
              "      <div>\n",
              "<style scoped>\n",
              "    .dataframe tbody tr th:only-of-type {\n",
              "        vertical-align: middle;\n",
              "    }\n",
              "\n",
              "    .dataframe tbody tr th {\n",
              "        vertical-align: top;\n",
              "    }\n",
              "\n",
              "    .dataframe thead th {\n",
              "        text-align: right;\n",
              "    }\n",
              "</style>\n",
              "<table border=\"1\" class=\"dataframe\">\n",
              "  <thead>\n",
              "    <tr style=\"text-align: right;\">\n",
              "      <th></th>\n",
              "      <th>Peptide_ID</th>\n",
              "      <th>Peptide</th>\n",
              "      <th>MHC_ID</th>\n",
              "      <th>MHC</th>\n",
              "      <th>Y</th>\n",
              "    </tr>\n",
              "  </thead>\n",
              "  <tbody>\n",
              "    <tr>\n",
              "      <th>0</th>\n",
              "      <td>1</td>\n",
              "      <td>ASYAAAAAY</td>\n",
              "      <td>BoLA-D18.4</td>\n",
              "      <td>YYSEYREISENVYESNLYIAYSDYTWEYLNYRWY</td>\n",
              "      <td>0.496594</td>\n",
              "    </tr>\n",
              "    <tr>\n",
              "      <th>1</th>\n",
              "      <td>2</td>\n",
              "      <td>GMMGGLWKY</td>\n",
              "      <td>BoLA-D18.4</td>\n",
              "      <td>YYSEYREISENVYESNLYIAYSDYTWEYLNYRWY</td>\n",
              "      <td>0.439136</td>\n",
              "    </tr>\n",
              "    <tr>\n",
              "      <th>2</th>\n",
              "      <td>3</td>\n",
              "      <td>KMFHGGLRY</td>\n",
              "      <td>BoLA-D18.4</td>\n",
              "      <td>YYSEYREISENVYESNLYIAYSDYTWEYLNYRWY</td>\n",
              "      <td>0.898463</td>\n",
              "    </tr>\n",
              "    <tr>\n",
              "      <th>3</th>\n",
              "      <td>4</td>\n",
              "      <td>KMLEASTIY</td>\n",
              "      <td>BoLA-D18.4</td>\n",
              "      <td>YYSEYREISENVYESNLYIAYSDYTWEYLNYRWY</td>\n",
              "      <td>0.756090</td>\n",
              "    </tr>\n",
              "    <tr>\n",
              "      <th>4</th>\n",
              "      <td>5</td>\n",
              "      <td>KQLEYSWVL</td>\n",
              "      <td>BoLA-D18.4</td>\n",
              "      <td>YYSEYREISENVYESNLYIAYSDYTWEYLNYRWY</td>\n",
              "      <td>0.481554</td>\n",
              "    </tr>\n",
              "    <tr>\n",
              "      <th>5</th>\n",
              "      <td>6</td>\n",
              "      <td>KQWSWFSLL</td>\n",
              "      <td>BoLA-D18.4</td>\n",
              "      <td>YYSEYREISENVYESNLYIAYSDYTWEYLNYRWY</td>\n",
              "      <td>0.451477</td>\n",
              "    </tr>\n",
              "    <tr>\n",
              "      <th>6</th>\n",
              "      <td>7</td>\n",
              "      <td>MMFDAMGAL</td>\n",
              "      <td>BoLA-D18.4</td>\n",
              "      <td>YYSEYREISENVYESNLYIAYSDYTWEYLNYRWY</td>\n",
              "      <td>0.935937</td>\n",
              "    </tr>\n",
              "    <tr>\n",
              "      <th>7</th>\n",
              "      <td>8</td>\n",
              "      <td>MMMSTAVAF</td>\n",
              "      <td>BoLA-D18.4</td>\n",
              "      <td>YYSEYREISENVYESNLYIAYSDYTWEYLNYRWY</td>\n",
              "      <td>0.762939</td>\n",
              "    </tr>\n",
              "    <tr>\n",
              "      <th>8</th>\n",
              "      <td>9</td>\n",
              "      <td>MTFPVSLEY</td>\n",
              "      <td>BoLA-D18.4</td>\n",
              "      <td>YYSEYREISENVYESNLYIAYSDYTWEYLNYRWY</td>\n",
              "      <td>0.485003</td>\n",
              "    </tr>\n",
              "    <tr>\n",
              "      <th>9</th>\n",
              "      <td>10</td>\n",
              "      <td>RMMGVKYLM</td>\n",
              "      <td>BoLA-D18.4</td>\n",
              "      <td>YYSEYREISENVYESNLYIAYSDYTWEYLNYRWY</td>\n",
              "      <td>0.898463</td>\n",
              "    </tr>\n",
              "    <tr>\n",
              "      <th>10</th>\n",
              "      <td>14</td>\n",
              "      <td>WMYYPRSPV</td>\n",
              "      <td>BoLA-D18.4</td>\n",
              "      <td>YYSEYREISENVYESNLYIAYSDYTWEYLNYRWY</td>\n",
              "      <td>0.685650</td>\n",
              "    </tr>\n",
              "    <tr>\n",
              "      <th>11</th>\n",
              "      <td>15</td>\n",
              "      <td>YVYFYDLSY</td>\n",
              "      <td>BoLA-D18.4</td>\n",
              "      <td>YYSEYREISENVYESNLYIAYSDYTWEYLNYRWY</td>\n",
              "      <td>0.246016</td>\n",
              "    </tr>\n",
              "  </tbody>\n",
              "</table>\n",
              "</div>\n",
              "      <button class=\"colab-df-convert\" onclick=\"convertToInteractive('df-99ecec77-0350-4934-9966-6e620249f402')\"\n",
              "              title=\"Convert this dataframe to an interactive table.\"\n",
              "              style=\"display:none;\">\n",
              "        \n",
              "  <svg xmlns=\"http://www.w3.org/2000/svg\" height=\"24px\"viewBox=\"0 0 24 24\"\n",
              "       width=\"24px\">\n",
              "    <path d=\"M0 0h24v24H0V0z\" fill=\"none\"/>\n",
              "    <path d=\"M18.56 5.44l.94 2.06.94-2.06 2.06-.94-2.06-.94-.94-2.06-.94 2.06-2.06.94zm-11 1L8.5 8.5l.94-2.06 2.06-.94-2.06-.94L8.5 2.5l-.94 2.06-2.06.94zm10 10l.94 2.06.94-2.06 2.06-.94-2.06-.94-.94-2.06-.94 2.06-2.06.94z\"/><path d=\"M17.41 7.96l-1.37-1.37c-.4-.4-.92-.59-1.43-.59-.52 0-1.04.2-1.43.59L10.3 9.45l-7.72 7.72c-.78.78-.78 2.05 0 2.83L4 21.41c.39.39.9.59 1.41.59.51 0 1.02-.2 1.41-.59l7.78-7.78 2.81-2.81c.8-.78.8-2.07 0-2.86zM5.41 20L4 18.59l7.72-7.72 1.47 1.35L5.41 20z\"/>\n",
              "  </svg>\n",
              "      </button>\n",
              "      \n",
              "  <style>\n",
              "    .colab-df-container {\n",
              "      display:flex;\n",
              "      flex-wrap:wrap;\n",
              "      gap: 12px;\n",
              "    }\n",
              "\n",
              "    .colab-df-convert {\n",
              "      background-color: #E8F0FE;\n",
              "      border: none;\n",
              "      border-radius: 50%;\n",
              "      cursor: pointer;\n",
              "      display: none;\n",
              "      fill: #1967D2;\n",
              "      height: 32px;\n",
              "      padding: 0 0 0 0;\n",
              "      width: 32px;\n",
              "    }\n",
              "\n",
              "    .colab-df-convert:hover {\n",
              "      background-color: #E2EBFA;\n",
              "      box-shadow: 0px 1px 2px rgba(60, 64, 67, 0.3), 0px 1px 3px 1px rgba(60, 64, 67, 0.15);\n",
              "      fill: #174EA6;\n",
              "    }\n",
              "\n",
              "    [theme=dark] .colab-df-convert {\n",
              "      background-color: #3B4455;\n",
              "      fill: #D2E3FC;\n",
              "    }\n",
              "\n",
              "    [theme=dark] .colab-df-convert:hover {\n",
              "      background-color: #434B5C;\n",
              "      box-shadow: 0px 1px 3px 1px rgba(0, 0, 0, 0.15);\n",
              "      filter: drop-shadow(0px 1px 2px rgba(0, 0, 0, 0.3));\n",
              "      fill: #FFFFFF;\n",
              "    }\n",
              "  </style>\n",
              "\n",
              "      <script>\n",
              "        const buttonEl =\n",
              "          document.querySelector('#df-99ecec77-0350-4934-9966-6e620249f402 button.colab-df-convert');\n",
              "        buttonEl.style.display =\n",
              "          google.colab.kernel.accessAllowed ? 'block' : 'none';\n",
              "\n",
              "        async function convertToInteractive(key) {\n",
              "          const element = document.querySelector('#df-99ecec77-0350-4934-9966-6e620249f402');\n",
              "          const dataTable =\n",
              "            await google.colab.kernel.invokeFunction('convertToInteractive',\n",
              "                                                     [key], {});\n",
              "          if (!dataTable) return;\n",
              "\n",
              "          const docLinkHtml = 'Like what you see? Visit the ' +\n",
              "            '<a target=\"_blank\" href=https://colab.research.google.com/notebooks/data_table.ipynb>data table notebook</a>'\n",
              "            + ' to learn more about interactive tables.';\n",
              "          element.innerHTML = '';\n",
              "          dataTable['output_type'] = 'display_data';\n",
              "          await google.colab.output.renderOutput(dataTable, element);\n",
              "          const docLink = document.createElement('div');\n",
              "          docLink.innerHTML = docLinkHtml;\n",
              "          element.appendChild(docLink);\n",
              "        }\n",
              "      </script>\n",
              "    </div>\n",
              "  </div>\n",
              "  "
            ]
          },
          "metadata": {},
          "execution_count": 93
        }
      ]
    },
    {
      "cell_type": "code",
      "source": [
        "len(split['train']) / len(split['train']['Peptide'].unique())"
      ],
      "metadata": {
        "colab": {
          "base_uri": "https://localhost:8080/"
        },
        "id": "APJPESMa16xV",
        "outputId": "b5ea0af8-f12f-4747-967c-37b0d00d99dd"
      },
      "execution_count": 94,
      "outputs": [
        {
          "output_type": "execute_result",
          "data": {
            "text/plain": [
              "3.530289061228917"
            ]
          },
          "metadata": {},
          "execution_count": 94
        }
      ]
    },
    {
      "cell_type": "code",
      "source": [
        "(split['train']['MHC'].unique())"
      ],
      "metadata": {
        "colab": {
          "base_uri": "https://localhost:8080/"
        },
        "id": "H6vYtyJn1W4S",
        "outputId": "a5e59ddf-7c00-4a07-e89e-46666f98c7f6"
      },
      "execution_count": 95,
      "outputs": [
        {
          "output_type": "execute_result",
          "data": {
            "text/plain": [
              "array(['YYSEYREISENVYESNLYIAYSDYTWEYLNYRWY',\n",
              "       'YHTTYREISENWYEANLYLEYEYYSMAAFNYTWY',\n",
              "       'YYIIYRNISDTSFVSNLYLLYTYYSMAVQNYEWH',\n",
              "       'YDTMYRETSAQTDENIAYIRFSSYTWAELAYTWY',\n",
              "       'YESYYREKAGQWFVSNLYLQSLFYTWSAYAYEWY',\n",
              "       'YVEYYRERAGNSFVDTAYLWAWFYTWAADAYEWY',\n",
              "       'YVEYYREKAGNSFVDTLYIVSQYYTWAELAYTWY',\n",
              "       'YVAFYEQRASDWFVSTAYFRFQFYTWADYAYEWY',\n",
              "       'YHSYYRNIAGNIFVNTAYFRYEYYTWADDAYTWY',\n",
              "       'YESYYRIIAGQWFVNTLYLWYEFYTWAAYAYEWY',\n",
              "       'YFAMYQENMAHTDANTLYIIYRDYTWVARVYRGY',\n",
              "       'YFAMYGEKVAHTHVDTLYVRYHYYTWAVLAYTWY',\n",
              "       'YFAMYGEKVAHTHVDTLYLRYHYYTWAVWAYTWY',\n",
              "       'YFAMYGEKVAHTHVDTLYVRYHYYTWAEWAYTWY',\n",
              "       'YYAMYGEKVAHTHVDTLYLRYHYYTWAVWAYTWY',\n",
              "       'YYAMYGEKVAHTHVDTLYVRYHYYTWAVLAYTWY',\n",
              "       'YFAMYGEKVAHTHVDTLYVRCHYYTWAVLAYTWY',\n",
              "       'YYAMYGEKVAHTHVDTLYVRFHYYTWAVLAYTWY',\n",
              "       'YFAMYGEKVAHIDVDTLYVRYHYYTWAVLAYTWY',\n",
              "       'YFAMYGEKVAHTHVDTLYVRYHYYTWAVQAYTWY',\n",
              "       'YFAMYGEKVAHTHVDTLYVRYHYYTWAVLAYEWY',\n",
              "       'YFAMYGEKVAHTHVDTLYLMFHYYTWAVLAYTWY',\n",
              "       'YFAMYGEKVAHTHVDTLYVRYHYYTWAVQAYTGY',\n",
              "       'YFAMYGEKVAHTHVDTLYIRYHYYTWAVWAYTWY',\n",
              "       'YFAMYQENVAQTDVDTLYIIYRDYTWAELAYTWY',\n",
              "       'YFAMYQENVAQTDVDTLYIIYRDYTWAVQAYTWY',\n",
              "       'YFAMYQENVAQTDVDTLYIIFHYYTWAELAYTWY',\n",
              "       'YYAMYQENVAQTDVDTLYIIYRDYTWAAQAYRWY',\n",
              "       'YSAMYEEKVAHTDENIAYLMFHYYTWAVLAYTGY',\n",
              "       'YSAMYEEKVAHTDENIAYLMFHYYTWAVQAYTGY',\n",
              "       'YSAMYEEKVAHTDENIAYLMFHYYTWAVQAYTWY',\n",
              "       'YYAMYRNNVAHTDESIAYIRYQDYTWAEWAYRWY',\n",
              "       'YYAMYRNNVAHTDANTLYIRYQDYTWAEWAYRWY',\n",
              "       'YYAMYRNNVAHTDANTLYIRYQNYTWAEWAYRWY',\n",
              "       'YYAMYRNNVAHTHVDTLYIRYQDYTWAEWAYRWY',\n",
              "       'YTAMYLQNVAQTDANTLYIMYRDYTWAVLAYTWY',\n",
              "       'YSAMYQENVAQTDVDTLYIIYEHYTWAWLAYTWY',\n",
              "       'YSAMYQENVAHTDENTLYIIYEHYTWARLAYTWY',\n",
              "       'YTAMYQENVAHIDVDTLYIMYQDYTWAVLAYTWY',\n",
              "       'YFAMYQENVAHTDESIAYIMYQDYTWAVLAYTWY',\n",
              "       'YSAMYQENVAHTDESIAYIMYQDYTWAVLAYTWY',\n",
              "       'YFAMYRNNVAHTDESIAYIMYQDYTWAVLAYTWY',\n",
              "       'YTAMYRNNVAHIDVDTLYIMYQDYTWAVLAYTWH',\n",
              "       'YYAMYRNNVAQTDVDTLYIRYQDYTWAEWAYRWY',\n",
              "       'YYAMYRNNVAQTDVDTLYIMYRDYTWAVWAYTWY',\n",
              "       'YYAMYRNNVAQTDVDTLYIRYHYYTWAVWAYTWY',\n",
              "       'YYAMYRNNVAQTDVDTLYIRYRDYTWAVWAYTWY',\n",
              "       'YYAMYRNNVAQTDVDTLYVRYHYYTWAVLAYTWY',\n",
              "       'YFAMYEENVAHTNANTLYIIYRDYTWARLAYEGY',\n",
              "       'YYSEYRNIYAQTDESNLYLSYDYYTWAERAYEWY',\n",
              "       'YDSEYRNIFTNTDESNLYLSYNYYTWAVDAYTWY',\n",
              "       'YDSEYRNIFTNTDENTAYLSYNYYTWAVDAYTWY',\n",
              "       'YDSEYRNIFTNTYENIAYLSYNYYTWAVDAYTWY',\n",
              "       'YYSEYRNICTNTDESNLYLWYNFYTWAELAYTWH',\n",
              "       'YYAMYREISTNTYESNLYLRYDSYTWAEWAYLWY',\n",
              "       'YYAMYRNISTNTYESNLYIRYDSYTWAELAYLWY',\n",
              "       'YYSEYREISTNTYESNLYLRYDSYTWAELAYLWY',\n",
              "       'YYSEYRNICTNTYESNLYLRYNYYTWAELAYLWY',\n",
              "       'YYAMYRENMASTYENIAYLRYHDYTWAELAYLWY',\n",
              "       'YYAMYREISTNTYESNLYWTYNLYTWAELAYTWY',\n",
              "       'YHSTYRNISTNTYESNLYLRYDSYTWAVLAYTWH',\n",
              "       'YHTEYREICAKTDENIAYLNYHDYTWAVLAYEWY',\n",
              "       'YHTEHREICAKTDEDTLYLNYHDYTWAVLAYEWY',\n",
              "       'YHTEYREICAKTDEDTLYLNYHDYTWAVLAYEWY',\n",
              "       'YHTEYREICAKTDESTLYLNYNYYTWAELAYEWY',\n",
              "       'YYATYRNIFTNTYESNLYIRYDSYTWAVLAYLWY',\n",
              "       'YYATYRNIFTNTYESNLYIRYDFYTWAVLAYLWY',\n",
              "       'YHSTYREISTNTYEDTLYIRSNFYTWAVDAYTWY',\n",
              "       'YYSEYRNICTNTYENIAYLRYNFYTWAVLTYTWY',\n",
              "       'YYSEYRNICTNTDESNLYLRYNFYTWAVLTYTWY',\n",
              "       'YHTKYREISTNTYESNLYLRYNYYSLAVLAYEWY',\n",
              "       'YHTKYREISTNTYESNLYLSYNYYTWAVLAYEWY',\n",
              "       'YHTKYREIFTNTYENIAYLSYNYYTWAVLAYEWY',\n",
              "       'YYSEYRNIYAQTDESNLYLSYNYYTWAVDAYTWY',\n",
              "       'YYTKYREISTNTYENTAYIRYDDYTWAVDAYLSY',\n",
              "       'YYTKYREISTNTYENTAYIRYDDYTWAVLAYLSY',\n",
              "       'YHTKYREISTNTYESNLYWRYNLYTWAVDAYLSY',\n",
              "       'YHTKYREIYAQTDESNLYWRYNLYTWAVDAYLSY',\n",
              "       'YYAMYREKYRQTDVSNLYLRYDSYTWAEWAYLWY',\n",
              "       'YYSEYREISTNTYESNLYLSYNYYSLAVLAYEWY',\n",
              "       'YYATYRNIFTNTYENIAYWTYNYYTWAELAYLWH',\n",
              "       'YYATYREISTNTYENIAYWTYNYYTWAELAYLWH',\n",
              "       'YYATYRNIFTNTYENIAYIRYDSYTWAVLAYLWY',\n",
              "       'YYAGYRNIYAQTDESNLYWTYNLYTWAVLAYTWY',\n",
              "       'YYAMYGENMASTYENIAYIVYDSYTWAVLAYLWY',\n",
              "       'YYATYGENMASTYENIAYIRYDSYTWAVLAYLWY',\n",
              "       'YYATYGENMASTYENIAYLWYDSYTWAVLAYLWY',\n",
              "       'YHTEYRNICAKTDVGNLYWTYNFYTWAVLAYEWH',\n",
              "       'YYSEYRNIYAQTDESNLYIRYDDYTWAVDAYLSY',\n",
              "       'YYAGYREKYRQTDVSNLYIRYDYYTWAELAYLWY',\n",
              "       'YSAGYREKYRQADVNKLYLRFNFYTWAERAYTWY',\n",
              "       'YYAGYREKYRQTDVNKLYLRYNFYTWAERAYTWY',\n",
              "       'YDSGYREKYRQADVNKLYLWYDSYTWAEWAYTWY',\n",
              "       'YDSGYRENYRQADVSNLYLRYDSYTLAALAYTWY',\n",
              "       'YDSGYREKYRQADVSNLYLRSDSYTLAALAYTWY',\n",
              "       'YYAGYREKYRQTDVSNLYLRYNFYTWAERAYTWY',\n",
              "       'YYAGYREKYRQADVSNLYLWYDSYTWAEWAYTWY',\n",
              "       'YSAGYREKYRQTDVSNLYLWFDSYTWAERAYTWY',\n",
              "       'YYAGYRENYRQTDVNKLYIRYDLYTWAELAYTWY',\n",
              "       'YHSMYRESADTIFVNTLYLWHEFYSSAEQAYTWY',\n",
              "       'YYAMYRENMTENAVNTLYLRVEYYTWAVMAYQWY',\n",
              "       'YYAMYRENMAENAVNNLYIRYHSYTWAEHTYEWY',\n",
              "       'YYSEYRNICANTYESNLYIRYEFYTWAAMAYEWH',\n",
              "       'YHTKYREISANTYENTAYFTYDYYTWAVHTYEWY',\n",
              "       'YYSEYRNIYAETYESNLYLRYDSYTWAARAYEWY',\n",
              "       'YYAMYSQIMADSYESNLYIRLHHYTWAAWAYEWY',\n",
              "       'YYSEYEQRVGHTFVSNLYIRYESYTWAVHTYESY',\n",
              "       'YYAMYREIMTATYGNTAYFKYEFYTWAAHTYEWY',\n",
              "       'YHSMYREKAGNTDENIAYLMHYRYTWAVRAYRWY',\n",
              "       'YSSEYEENAGHTDADNLYLTYHYYTWAEVAYTWY',\n",
              "       'YSSEYEERAGHTDADTLYLTYHYYTWAEVAYTWY',\n",
              "       'YTEMYEQNSANTHVDTAYLTYHYYTWAERAYRWY',\n",
              "       'YYSEYEARAEATHENTAYIKYHSYTWNYFAYEWY',\n",
              "       'YTELYEERAETTFVSTAYIWYDYYTWAEMAYRWY',\n",
              "       'YSEMYEERAGNTFVNTAYIGYHHYTWAVLAYRWY',\n",
              "       'YSYMYEEKAARTDVDTLYIIYRDYTWAVWAYTWY',\n",
              "       'YSEMYEQNSARTDVDTLYITYRDYTWAAQAYRSY',\n",
              "       'YSAMYEEKAGHTDENTLYLRSYRYTWAARAYRWY',\n",
              "       'YFAMYQESAAHTDVDTLYIIYRDYTWAAQAYTWY',\n",
              "       'YYAMYQENMASTDVDTLYIIYRDYTWAALAYRWY',\n",
              "       'YSAMYEESVASTDVDTLYILFRDYTWAALAYTWY',\n",
              "       'YSAMYRESVAGIYANTLYILFELYTWVAQAYRSY',\n",
              "       'YSAMYEESVASTDVDTLYIIYRYYTWAALAYTWY',\n",
              "       'YYTMYRENMASTDENIAYWTYGYYTWAERAYTWY',\n",
              "       'YYSEYRNIYAQTDVSNLYLSYEYYTWAVRAYTWY',\n",
              "       'YYTKYREISTNTDENTLYWTFRFYTWAVRAYTWY',\n",
              "       'YDEMYRNNAGNIYGNTAYIIYSDYTWAERSYTWY',\n",
              "       'YDEMYKENAGSTFVNNLYLSYSDYTRAAMSYAWY',\n",
              "       'YSEMYRERAGNFFVSNLYLWSMFYSMAEQNYRWY',\n",
              "       'YLEMYQEKAGNFFVSNLYLLSMFYSMAEQNYRWY',\n",
              "       'YYATYRENFDTTFVDTLYIAYRDYTWAEHNYTWY',\n",
              "       'YHTKYREISENWYEATLYLEYEYYSMAAFNYRSY',\n",
              "       'YFAMYQENVAHTDVDTLYIMYQDYTWAVLAYTWY',\n",
              "       'YHSEYRNIYAQTDESNLYLSYNYYTWAVDAYTWY',\n",
              "       'YYAMYGENMASTYENIAYIVYNYYTWAVRAYLWY',\n",
              "       'YYAMYGENMASTYENIAYIVYNYYTWAVLAYLWY',\n",
              "       'YYSEYRNIYAQTDESNLYLSYNYYSLAVLAYEWY',\n",
              "       'YYAMYRENVETTYVGTLYLSYRDYTWAERSYLSY',\n",
              "       'YYAEYRNIYETTYVNTLYIIYRDYTWAVLSYRGY',\n",
              "       'YESYYRIIAGQWFVNTLYIRYEYYTWAAYAYEWY',\n",
              "       'YYSVYREIFTNTDVSNLYLTYYYYSFAALAYTWY',\n",
              "       'YHTEYREICAKTDESTLYLNYHDYTWAELAYEWY',\n",
              "       'YHTEYREICAKTDESTLYLNYDYYTWAELAYEWY',\n",
              "       'YHTEYREICAKTYENTAYLNYHDYTWAVLAYEWY',\n",
              "       'YHTEYREICAKTDEDTLYLNYHDYTWAELAYEWY',\n",
              "       'YFAMYGEKVAHTHVDTLYVMYHYYTWAVLAYTWY',\n",
              "       'YSEMYEERAGNTFVGNLYYWYDFYTWAEQAYTWY',\n",
              "       'YYTMYRENMASTDENIAYIRYYYYTWAARAYTWY'], dtype=object)"
            ]
          },
          "metadata": {},
          "execution_count": 95
        }
      ]
    },
    {
      "cell_type": "code",
      "source": [
        "(split['train']['MHC_ID'].unique())"
      ],
      "metadata": {
        "colab": {
          "base_uri": "https://localhost:8080/"
        },
        "id": "8gXC6K981aJV",
        "outputId": "2e343db0-d1d6-4e3d-9776-5742b0c4ac9a"
      },
      "execution_count": 96,
      "outputs": [
        {
          "output_type": "execute_result",
          "data": {
            "text/plain": [
              "array(['BoLA-D18.4', 'BoLA-HD6', 'BoLA-T2C', 'Gogo-B0101', 'H-2-Db',\n",
              "       'H-2-Dd', 'H-2-Kb', 'H-2-Kd', 'H-2-Kk', 'H-2-Ld', 'HLA-A01:01',\n",
              "       'HLA-A02:01', 'HLA-A02:02', 'HLA-A02:03', 'HLA-A02:05',\n",
              "       'HLA-A02:06', 'HLA-A02:07', 'HLA-A02:10', 'HLA-A02:11',\n",
              "       'HLA-A02:12', 'HLA-A02:16', 'HLA-A02:17', 'HLA-A02:19',\n",
              "       'HLA-A02:50', 'HLA-A03:01', 'HLA-A03:02', 'HLA-A03:19',\n",
              "       'HLA-A11:01', 'HLA-A23:01', 'HLA-A24:02', 'HLA-A24:03',\n",
              "       'HLA-A25:01', 'HLA-A26:01', 'HLA-A26:02', 'HLA-A26:03',\n",
              "       'HLA-A29:02', 'HLA-A30:01', 'HLA-A30:02', 'HLA-A31:01',\n",
              "       'HLA-A32:01', 'HLA-A32:07', 'HLA-A32:15', 'HLA-A33:01',\n",
              "       'HLA-A66:01', 'HLA-A68:01', 'HLA-A68:02', 'HLA-A68:23',\n",
              "       'HLA-A69:01', 'HLA-A80:01', 'HLA-B07:02', 'HLA-B08:01',\n",
              "       'HLA-B08:02', 'HLA-B08:03', 'HLA-B14:01', 'HLA-B14:02',\n",
              "       'HLA-B15:01', 'HLA-B15:02', 'HLA-B15:03', 'HLA-B15:09',\n",
              "       'HLA-B15:17', 'HLA-B15:42', 'HLA-B18:01', 'HLA-B27:02',\n",
              "       'HLA-B27:03', 'HLA-B27:05', 'HLA-B27:20', 'HLA-B35:01',\n",
              "       'HLA-B35:03', 'HLA-B37:01', 'HLA-B38:01', 'HLA-B39:01',\n",
              "       'HLA-B40:01', 'HLA-B40:02', 'HLA-B40:13', 'HLA-B42:01',\n",
              "       'HLA-B44:02', 'HLA-B44:03', 'HLA-B45:01', 'HLA-B45:06',\n",
              "       'HLA-B46:01', 'HLA-B48:01', 'HLA-B51:01', 'HLA-B52:01',\n",
              "       'HLA-B53:01', 'HLA-B54:01', 'HLA-B57:01', 'HLA-B58:01',\n",
              "       'HLA-B58:02', 'HLA-B73:01', 'HLA-B83:01', 'HLA-C03:03',\n",
              "       'HLA-C04:01', 'HLA-C05:01', 'HLA-C06:02', 'HLA-C07:01',\n",
              "       'HLA-C07:02', 'HLA-C08:02', 'HLA-C12:03', 'HLA-C14:02',\n",
              "       'HLA-C15:02', 'HLA-E01:03', 'Mamu-A01', 'Mamu-A02', 'Mamu-A07',\n",
              "       'Mamu-A11', 'Mamu-A2201', 'Mamu-A2601', 'Mamu-A20102',\n",
              "       'Mamu-A70103', 'Mamu-B01', 'Mamu-B03', 'Mamu-B08', 'Mamu-B1001',\n",
              "       'Mamu-B17', 'Mamu-B3901', 'Mamu-B52', 'Mamu-B6601', 'Mamu-B8301',\n",
              "       'Mamu-B8701', 'Patr-A0101', 'Patr-A0301', 'Patr-A0401',\n",
              "       'Patr-A0701', 'Patr-A0901', 'Patr-B0101', 'Patr-B1301',\n",
              "       'Patr-B2401', 'SLA-20401', 'SLA-30401', 'BoLA-AW10', 'BoLA-JSP.1',\n",
              "       'BoLA-T2a', 'BoLA-T2b', 'HLA-A74:01', 'HLA-B42:02', 'HLA-B57:02',\n",
              "       'HLA-B57:03', 'HLA-B81:01', 'HLA-E01:01', 'SLA-10401', 'SLA-10701',\n",
              "       'H-2-Lq', 'HLA-A11:02', 'Patr-B1701', 'HLA-B27:04', 'HLA-B27:06',\n",
              "       'HLA-B27:01', 'HLA-B27:10', 'HLA-A02:04', 'Mamu-B04', 'Patr-B0901'],\n",
              "      dtype=object)"
            ]
          },
          "metadata": {},
          "execution_count": 96
        }
      ]
    },
    {
      "cell_type": "code",
      "source": [
        "MAX_LENGTH = (max([len(item) for item in split['train']['Peptide'].tolist()])  +max([len(item) for item in split['train']['MHC'].tolist()])  + 2)\n",
        "MAX_LENGTH"
      ],
      "metadata": {
        "colab": {
          "base_uri": "https://localhost:8080/"
        },
        "id": "d4Bipa4I4YG3",
        "outputId": "49574a00-67d2-4cef-d151-433634f91e19"
      },
      "execution_count": 97,
      "outputs": [
        {
          "output_type": "execute_result",
          "data": {
            "text/plain": [
              "66"
            ]
          },
          "metadata": {},
          "execution_count": 97
        }
      ]
    },
    {
      "cell_type": "code",
      "source": [
        "split['train'].loc[0]['Peptide'] , split['train'].loc[0]['MHC']"
      ],
      "metadata": {
        "colab": {
          "base_uri": "https://localhost:8080/"
        },
        "id": "7KkjxWFE1pgS",
        "outputId": "e256c121-b828-4378-8c4b-0f95bafdd70c"
      },
      "execution_count": 98,
      "outputs": [
        {
          "output_type": "execute_result",
          "data": {
            "text/plain": [
              "('ASYAAAAAY', 'YYSEYREISENVYESNLYIAYSDYTWEYLNYRWY')"
            ]
          },
          "metadata": {},
          "execution_count": 98
        }
      ]
    },
    {
      "cell_type": "code",
      "source": [
        "from transformers import BertTokenizer"
      ],
      "metadata": {
        "id": "PIrX6Bf-2PMO"
      },
      "execution_count": 99,
      "outputs": []
    },
    {
      "cell_type": "code",
      "source": [
        "tokenizer = BertTokenizer.from_pretrained(\"Rostlab/prot_bert_bfd\")"
      ],
      "metadata": {
        "id": "J_k8SGvL2axJ"
      },
      "execution_count": 100,
      "outputs": []
    },
    {
      "cell_type": "code",
      "source": [
        "import re\n",
        "seq_peptide = split['train'].loc[0]['Peptide']\n",
        "seq_peptide = [\" \".join(\"\".join(sample.split())) for sample in seq_peptide]\n",
        "seq_peptide = [re.sub(r\"[UZOB]\", \"X\", sample) for sample in seq_peptide]\n",
        "\n",
        "seq_mhc = split['train'].loc[0]['MHC']\n",
        "seq_mhc = [\" \".join(\"\".join(sample.split())) for sample in seq_mhc]\n",
        "seq_mhc = [re.sub(r\"[UZOB]\", \"X\", sample) for sample in seq_mhc]"
      ],
      "metadata": {
        "id": "sDTwzlPF3RAL"
      },
      "execution_count": 101,
      "outputs": []
    },
    {
      "cell_type": "code",
      "source": [
        "seq_peptide , seq_mhc"
      ],
      "metadata": {
        "colab": {
          "base_uri": "https://localhost:8080/"
        },
        "id": "eTYKj9tW3cgM",
        "outputId": "cd7f279c-b153-4b1c-b602-d4022c24d9df"
      },
      "execution_count": 102,
      "outputs": [
        {
          "output_type": "execute_result",
          "data": {
            "text/plain": [
              "(['A', 'S', 'Y', 'A', 'A', 'A', 'A', 'A', 'Y'],\n",
              " ['Y',\n",
              "  'Y',\n",
              "  'S',\n",
              "  'E',\n",
              "  'Y',\n",
              "  'R',\n",
              "  'E',\n",
              "  'I',\n",
              "  'S',\n",
              "  'E',\n",
              "  'N',\n",
              "  'V',\n",
              "  'Y',\n",
              "  'E',\n",
              "  'S',\n",
              "  'N',\n",
              "  'L',\n",
              "  'Y',\n",
              "  'I',\n",
              "  'A',\n",
              "  'Y',\n",
              "  'S',\n",
              "  'D',\n",
              "  'Y',\n",
              "  'T',\n",
              "  'W',\n",
              "  'E',\n",
              "  'Y',\n",
              "  'L',\n",
              "  'N',\n",
              "  'Y',\n",
              "  'R',\n",
              "  'W',\n",
              "  'Y'])"
            ]
          },
          "metadata": {},
          "execution_count": 102
        }
      ]
    },
    {
      "cell_type": "code",
      "source": [
        "meow = tokenizer.encode_plus(seq_peptide , seq_mhc , max_length = MAX_LENGTH , truncation=True , add_special_tokens = True , padding=True, return_tensor=\"pt\")"
      ],
      "metadata": {
        "id": "4S_uvX-L2nkz"
      },
      "execution_count": 103,
      "outputs": []
    },
    {
      "cell_type": "code",
      "source": [
        "meow"
      ],
      "metadata": {
        "colab": {
          "base_uri": "https://localhost:8080/"
        },
        "id": "CBuWUe10AdZT",
        "outputId": "65388e45-c686-4172-91c1-7795ee9b1b12"
      },
      "execution_count": 104,
      "outputs": [
        {
          "output_type": "execute_result",
          "data": {
            "text/plain": [
              "{'input_ids': [2, 6, 10, 20, 6, 6, 6, 6, 6, 20, 3, 20, 20, 10, 9, 20, 13, 9, 11, 10, 9, 17, 8, 20, 9, 10, 17, 5, 20, 11, 6, 20, 10, 14, 20, 15, 24, 9, 20, 5, 17, 20, 13, 24, 20, 3], 'token_type_ids': [0, 0, 0, 0, 0, 0, 0, 0, 0, 0, 0, 1, 1, 1, 1, 1, 1, 1, 1, 1, 1, 1, 1, 1, 1, 1, 1, 1, 1, 1, 1, 1, 1, 1, 1, 1, 1, 1, 1, 1, 1, 1, 1, 1, 1, 1], 'attention_mask': [1, 1, 1, 1, 1, 1, 1, 1, 1, 1, 1, 1, 1, 1, 1, 1, 1, 1, 1, 1, 1, 1, 1, 1, 1, 1, 1, 1, 1, 1, 1, 1, 1, 1, 1, 1, 1, 1, 1, 1, 1, 1, 1, 1, 1, 1]}"
            ]
          },
          "metadata": {},
          "execution_count": 104
        }
      ]
    },
    {
      "cell_type": "code",
      "source": [
        "len(seq_peptide) + len(seq_mhc)"
      ],
      "metadata": {
        "colab": {
          "base_uri": "https://localhost:8080/"
        },
        "id": "zNOJx4wF58CX",
        "outputId": "10c198fd-a9a9-4634-c2c2-ecbc0e807dc0"
      },
      "execution_count": 105,
      "outputs": [
        {
          "output_type": "execute_result",
          "data": {
            "text/plain": [
              "43"
            ]
          },
          "metadata": {},
          "execution_count": 105
        }
      ]
    },
    {
      "cell_type": "code",
      "source": [
        "len(meow['input_ids'])"
      ],
      "metadata": {
        "colab": {
          "base_uri": "https://localhost:8080/"
        },
        "id": "5s-QD67W53Gx",
        "outputId": "d3f1b8e8-3400-4194-f150-fca13da20add"
      },
      "execution_count": 106,
      "outputs": [
        {
          "output_type": "execute_result",
          "data": {
            "text/plain": [
              "46"
            ]
          },
          "metadata": {},
          "execution_count": 106
        }
      ]
    },
    {
      "cell_type": "code",
      "source": [
        "len(meow['attention_mask'])"
      ],
      "metadata": {
        "colab": {
          "base_uri": "https://localhost:8080/"
        },
        "id": "jm6h1Ro65J48",
        "outputId": "0997cf5a-69e9-4101-bb84-a705e1fb31e7"
      },
      "execution_count": 107,
      "outputs": [
        {
          "output_type": "execute_result",
          "data": {
            "text/plain": [
              "46"
            ]
          },
          "metadata": {},
          "execution_count": 107
        }
      ]
    },
    {
      "cell_type": "code",
      "source": [
        "tokenizer.decode(meow['input_ids'])"
      ],
      "metadata": {
        "colab": {
          "base_uri": "https://localhost:8080/",
          "height": 35
        },
        "id": "tjNgTBwM3e6_",
        "outputId": "beb6ea67-76f4-4d9e-a045-44072b691d98"
      },
      "execution_count": 108,
      "outputs": [
        {
          "output_type": "execute_result",
          "data": {
            "text/plain": [
              "'[CLS] A S Y A A A A A Y [SEP] Y Y S E Y R E I S E N V Y E S N L Y I A Y S D Y T W E Y L N Y R W Y [SEP]'"
            ],
            "application/vnd.google.colaboratory.intrinsic+json": {
              "type": "string"
            }
          },
          "metadata": {},
          "execution_count": 108
        }
      ]
    },
    {
      "cell_type": "code",
      "source": [
        "from torch.utils.data import Dataset, DataLoader\n",
        "\n",
        "class PeptideMHCDataset(Dataset):\n",
        "    def __init__(self, data, tokenizer=None, max_length=70):\n",
        "        self.data = data\n",
        "        self.tokenizer = BertTokenizer.from_pretrained(\"Rostlab/prot_bert_bfd\")\n",
        "\n",
        "        if tokenizer != None:\n",
        "          self.tokenizer = tokenizer\n",
        "        self.max_length = max_length\n",
        "\n",
        "    def __len__(self):\n",
        "        return len(self.data)\n",
        "\n",
        "    def __getitem__(self, idx):\n",
        "\n",
        "\n",
        "        seq_peptide = self.data.loc[idx]['Peptide']\n",
        "        seq_peptide = \" \".join(\"\".join(seq_peptide.split()))\n",
        "        seq_peptide = re.sub(r\"[UZOB]\", \"X\", seq_peptide)\n",
        "\n",
        "        seq_mhc = self.data.loc[idx]['MHC']\n",
        "        seq_mhc = \" \".join(\"\".join(seq_mhc.split()))\n",
        "        seq_mhc = re.sub(r\"[UZOB]\", \"X\", seq_mhc)\n",
        "\n",
        "        encoded = self.tokenizer.encode_plus(seq_peptide, seq_mhc, max_length=self.max_length, truncation=True, add_special_tokens=True, padding='max_length', return_tensors=\"pt\")\n",
        "\n",
        "        seq_target = self.data.loc[idx]['Y']\n",
        "\n",
        "        return {\n",
        "            'input_ids': encoded['input_ids'].flatten(),\n",
        "            'attention_mask': encoded['attention_mask'].flatten() ,\n",
        "            'token_type_ids': encoded['token_type_ids'].flatten() ,\n",
        "\n",
        "        }, seq_target\n",
        "\n",
        "\n",
        "\n",
        "MAX_LENGTH = (max([len(item) for item in split['train']['Peptide'].tolist()]) + max([len(item) for item in split['train']['MHC'].tolist()]) + 2)\n",
        "\n",
        "train_dataset = PeptideMHCDataset(split['train'], tokenizer, MAX_LENGTH)\n",
        "train_dataloader = DataLoader(train_dataset, batch_size=16, shuffle=True)\n"
      ],
      "metadata": {
        "id": "Ri-WW7mf4GmK"
      },
      "execution_count": 109,
      "outputs": []
    },
    {
      "cell_type": "code",
      "source": [
        "next(iter(train_dataloader))"
      ],
      "metadata": {
        "colab": {
          "base_uri": "https://localhost:8080/"
        },
        "id": "fU5HwGTN7hvv",
        "outputId": "ed32fcb4-3c0b-4350-9362-d39dd0f5cd2a"
      },
      "execution_count": 110,
      "outputs": [
        {
          "output_type": "execute_result",
          "data": {
            "text/plain": [
              "[{'input_ids': tensor([[ 2,  8, 16,  ...,  0,  0,  0],\n",
              "          [ 2,  5, 11,  ...,  0,  0,  0],\n",
              "          [ 2,  7,  6,  ...,  0,  0,  0],\n",
              "          ...,\n",
              "          [ 2,  6, 15,  ...,  0,  0,  0],\n",
              "          [ 2, 13, 11,  ...,  0,  0,  0],\n",
              "          [ 2, 10, 16,  ...,  0,  0,  0]]),\n",
              "  'attention_mask': tensor([[1, 1, 1,  ..., 0, 0, 0],\n",
              "          [1, 1, 1,  ..., 0, 0, 0],\n",
              "          [1, 1, 1,  ..., 0, 0, 0],\n",
              "          ...,\n",
              "          [1, 1, 1,  ..., 0, 0, 0],\n",
              "          [1, 1, 1,  ..., 0, 0, 0],\n",
              "          [1, 1, 1,  ..., 0, 0, 0]]),\n",
              "  'token_type_ids': tensor([[0, 0, 0,  ..., 0, 0, 0],\n",
              "          [0, 0, 0,  ..., 0, 0, 0],\n",
              "          [0, 0, 0,  ..., 0, 0, 0],\n",
              "          ...,\n",
              "          [0, 0, 0,  ..., 0, 0, 0],\n",
              "          [0, 0, 0,  ..., 0, 0, 0],\n",
              "          [0, 0, 0,  ..., 0, 0, 0]])},\n",
              " tensor([0.0000, 0.3115, 0.2511, 0.0847, 0.8570, 0.0000, 0.0000, 0.4420, 0.6299,\n",
              "         0.2137, 0.7075, 0.0847, 0.3599, 0.0847, 0.0847, 0.0000],\n",
              "        dtype=torch.float64)]"
            ]
          },
          "metadata": {},
          "execution_count": 110
        }
      ]
    },
    {
      "cell_type": "code",
      "source": [
        "!pip install colorama"
      ],
      "metadata": {
        "colab": {
          "base_uri": "https://localhost:8080/"
        },
        "id": "goQR3KXt97lU",
        "outputId": "649cbf78-c07b-4528-d233-ecfbe07921e2"
      },
      "execution_count": 111,
      "outputs": [
        {
          "output_type": "stream",
          "name": "stdout",
          "text": [
            "Looking in indexes: https://pypi.org/simple, https://us-python.pkg.dev/colab-wheels/public/simple/\n",
            "Requirement already satisfied: colorama in /usr/local/lib/python3.10/dist-packages (0.4.6)\n"
          ]
        }
      ]
    },
    {
      "cell_type": "code",
      "source": [
        "\n",
        "import torch\n",
        "import torch.nn as nn\n",
        "from torch import optim\n",
        "from torch.utils.data import DataLoader, RandomSampler\n",
        "\n",
        "import pytorch_lightning as pl\n",
        "from pytorch_lightning.callbacks import EarlyStopping, ModelCheckpoint\n",
        "from pytorch_lightning import Trainer, seed_everything\n",
        "\n",
        "\n",
        "from transformers import BertTokenizer, BertModel\n",
        "\n",
        "\n",
        "\n",
        "from torchmetrics import Accuracy\n",
        "\n",
        "import pandas as pd\n",
        "\n",
        "import os\n",
        "import re\n",
        "import requests\n",
        "from tqdm.auto import tqdm\n",
        "from datetime import datetime\n",
        "from collections import OrderedDict\n",
        "import logging as log\n",
        "import numpy as np\n",
        "import glob\n",
        "\n",
        "\n",
        "from tdc.multi_pred import PeptideMHC\n",
        "from colorama import Fore, Back, Style\n"
      ],
      "metadata": {
        "id": "O51XFgNP8IDr"
      },
      "execution_count": 112,
      "outputs": []
    },
    {
      "cell_type": "code",
      "source": [
        "class ProtBertBFDRegression(pl.LightningModule):\n",
        "\n",
        "    def __init__(self, *kwargs) -> None:\n",
        "        super(ProtBertBFDRegression, self).__init__()\n",
        "\n",
        "        self.validation_step_outputs = []\n",
        "\n",
        "        self.batch_size = 1\n",
        "        self.loader_workers = 2\n",
        "        self.max_length = 512\n",
        "        self.encoder_learning_rate = 5e-06\n",
        "        self.learning_rate = 3e-05\n",
        "        self.nr_frozen_epochs = 1\n",
        "        self.encoder_learning_rate = 5e-06\n",
        "\n",
        "        self.model_name = \"Rostlab/prot_bert_bfd\"\n",
        "\n",
        "        self._current_epoch = 0\n",
        "\n",
        "\n",
        "        data =  PeptideMHC(name = 'MHC1_IEDB-IMGT_Nielsen')\n",
        "\n",
        "        self.data_df =data.get_split()\n",
        "\n",
        "        # build model\n",
        "        self.__build_model()\n",
        "\n",
        "        # Loss criterion initialization.\n",
        "        self.__build_loss()\n",
        "\n",
        "        self.freeze_encoder()\n",
        "\n",
        "    def __build_model(self) -> None:\n",
        "        \"\"\" Init BERT model + tokenizer + regression head.\"\"\"\n",
        "        self.ProtBertBFD = BertModel.from_pretrained(self.model_name)\n",
        "        self.encoder_features = 1024\n",
        "\n",
        "        # Tokenizer\n",
        "        self.tokenizer = BertTokenizer.from_pretrained(\n",
        "            self.model_name, do_lower_case=False)\n",
        "\n",
        "        # Classification head\n",
        "        self.regression_head = nn.Sequential(\n",
        "            nn.Linear(self.encoder_features*4, self.encoder_features*2),\n",
        "            nn.ReLU() ,\n",
        "            nn.Linear(self.encoder_features*2, 1),\n",
        "            nn.Tanh(),\n",
        "        )\n",
        "\n",
        "\n",
        "    def __build_loss(self):\n",
        "        \"\"\" Initializes the loss function/s. \"\"\"\n",
        "        self._loss = nn.MSELoss()\n",
        "\n",
        "\n",
        "    def freeze_encoder(self) -> None:\n",
        "        \"\"\" freezes the encoder layer. \"\"\"\n",
        "        for param in self.ProtBertBFD.parameters():\n",
        "            param.requires_grad = False\n",
        "        self._frozen = True\n",
        "\n",
        "\n",
        "\n",
        "    def pool_strategy(self, features,\n",
        "                      pool_cls=True, pool_max=True, pool_mean=True,\n",
        "                      pool_mean_sqrt=True):\n",
        "        token_embeddings = features['token_embeddings']\n",
        "        cls_token = features['cls_token_embeddings']\n",
        "        attention_mask = features['attention_mask']\n",
        "\n",
        "        # Pooling strategy\n",
        "        output_vectors = []\n",
        "        if pool_cls:\n",
        "            output_vectors.append(cls_token)\n",
        "        if pool_max:\n",
        "            input_mask_expanded = attention_mask.unsqueeze(\n",
        "                -1).expand(token_embeddings.size()).float()\n",
        "            # Set padding tokens to large negative value\n",
        "            token_embeddings[input_mask_expanded == 0] = -1e9\n",
        "            max_over_time = torch.max(token_embeddings, 1)[0]\n",
        "            output_vectors.append(max_over_time)\n",
        "        if pool_mean or pool_mean_sqrt:\n",
        "            input_mask_expanded = attention_mask.unsqueeze(\n",
        "                -1).expand(token_embeddings.size()).float()\n",
        "            sum_embeddings = torch.sum(\n",
        "                token_embeddings * input_mask_expanded, 1)\n",
        "\n",
        "            # If tokens are weighted (by WordWeights layer), feature 'token_weights_sum' will be present\n",
        "            if 'token_weights_sum' in features:\n",
        "                sum_mask = features['token_weights_sum'].unsqueeze(\n",
        "                    -1).expand(sum_embeddings.size())\n",
        "            else:\n",
        "                sum_mask = input_mask_expanded.sum(1)\n",
        "\n",
        "            sum_mask = torch.clamp(sum_mask, min=1e-9)\n",
        "\n",
        "            if pool_mean:\n",
        "                output_vectors.append(sum_embeddings / sum_mask)\n",
        "            if pool_mean_sqrt:\n",
        "                output_vectors.append(sum_embeddings / torch.sqrt(sum_mask))\n",
        "\n",
        "        output_vector = torch.cat(output_vectors, 1)\n",
        "        return output_vector\n",
        "\n",
        "    def forward(self, input_ids, token_type_ids, attention_mask):\n",
        "        \"\"\" Usual pytorch forward function.\n",
        "        :param tokens: text sequences [batch_size x src_seq_len]\n",
        "        :param lengths: source lengths [batch_size]\n",
        "        Returns:\n",
        "            Dictionary with model outputs (e.g: affinity)\n",
        "        \"\"\"\n",
        "        input_ids = torch.tensor(input_ids, device=self.device)\n",
        "        attention_mask = torch.tensor(attention_mask, device=self.device)\n",
        "\n",
        "        word_embeddings = self.ProtBertBFD(input_ids,\n",
        "                                           attention_mask)[0]\n",
        "\n",
        "        pooling = self.pool_strategy({\"token_embeddings\": word_embeddings,\n",
        "                                      \"cls_token_embeddings\": word_embeddings[:, 0],\n",
        "                                      \"attention_mask\": attention_mask,\n",
        "                                      })\n",
        "        return {\"affinity\": self.regression_head(pooling)}\n",
        "\n",
        "    def loss(self, predictions: dict, targets: dict) -> torch.tensor:\n",
        "        \"\"\"\n",
        "        Computes Loss value according to a loss function.\n",
        "        :param predictions: model specific output. Must contain a key 'affinity' with\n",
        "            a tensor [batch_size x 1] with model predictions\n",
        "        :param labels: Label values [batch_size]\n",
        "        Returns:\n",
        "            torch.tensor with loss value.\n",
        "        \"\"\"\n",
        "        return self._loss(predictions[\"affinity\"], targets)\n",
        "\n",
        "\n",
        "    def training_step(self, batch: tuple, batch_nb: int, *args, **kwargs) -> dict:\n",
        "        \"\"\"\n",
        "        Runs one training step. This usually consists in the forward function followed\n",
        "            by the loss function.\n",
        "\n",
        "        :param batch: The output of your dataloader.\n",
        "        :param batch_nb: Integer displaying which batch this is\n",
        "        Returns:\n",
        "            - dictionary containing the loss and the metrics to be added to the lightning logger.\n",
        "        \"\"\"\n",
        "        inputs, targets = batch\n",
        "        model_out = self.forward(**inputs)\n",
        "        loss_val = self.loss(model_out, targets)\n",
        "\n",
        "        tqdm_dict = {\"train_loss\": loss_val}\n",
        "\n",
        "        self.log(\"train loss\"  , loss_val)\n",
        "        output = OrderedDict(\n",
        "            {\"loss\": loss_val, \"progress_bar\": tqdm_dict, \"log\": tqdm_dict})\n",
        "\n",
        "        # can also return just a scalar instead of a dict (return loss_val)\n",
        "        return output\n",
        "\n",
        "    def validation_step(self, batch: tuple, batch_nb: int, *args, **kwargs) -> dict:\n",
        "        \"\"\" Similar to the training step but with the model in eval mode.\n",
        "        Returns:\n",
        "            - dictionary passed to the validation_end function.\n",
        "        \"\"\"\n",
        "        inputs, targets = batch\n",
        "\n",
        "        model_out = self.forward(**inputs)\n",
        "        loss_val = self.loss(model_out, targets)\n",
        "\n",
        "        output = OrderedDict({\"val_loss\": loss_val })\n",
        "\n",
        "        return output\n",
        "\n",
        "    def configure_optimizers(self):\n",
        "        \"\"\" Sets different Learning rates for different parameter groups. \"\"\"\n",
        "        parameters = [\n",
        "            {\"params\": self.regression_head.parameters()},\n",
        "            {\n",
        "                \"params\": self.ProtBertBFD.parameters(),\n",
        "                \"lr\": self.encoder_learning_rate,\n",
        "            },\n",
        "        ]\n",
        "        optimizer = optim.Adam(parameters, lr=self.learning_rate)\n",
        "        return [optimizer], []\n",
        "\n",
        "    def on_epoch_end(self):\n",
        "        \"\"\" Pytorch lightning hook \"\"\"\n",
        "        num_layers = len(self.ProtBertBFD.encoder.layer)\n",
        "        if self._current_epoch < num_layers:\n",
        "            print(Back.BLUE + Fore.WHITE + f\"Unfreezing {self._current_epoch+1} / {len(self.ProtBertBFD.encoder.layer)} Layer Of Bert\" + Style.RESET_ALL)\n",
        "            for param in self.ProtBertBFD.encoder.layer[-(self._current_epoch+1)].parameters():\n",
        "                param.requires_grad = True\n",
        "        self._current_epoch +=1\n",
        "\n",
        "\n",
        "    def __retrieve_dataset(self, train=True, val=True, test=True):\n",
        "        \"\"\" Retrieves task specific dataset \"\"\"\n",
        "        if train:\n",
        "            return self.data_df['train']\n",
        "        elif val:\n",
        "            return self.data_df['test']\n",
        "        else:\n",
        "            print('Incorrect dataset split')\n",
        "\n",
        "    def train_dataloader(self) -> DataLoader:\n",
        "        \"\"\" Function that loads the train set. \"\"\"\n",
        "        self._train_dataset = PeptideMHCDataset(self.__retrieve_dataset(val=False, test=False) )\n",
        "        return DataLoader(\n",
        "            dataset=self._train_dataset,\n",
        "            batch_size=self.batch_size,\n",
        "            num_workers=self.loader_workers,\n",
        "        )\n",
        "\n",
        "    def val_dataloader(self) -> DataLoader:\n",
        "        \"\"\" Function that loads the validation set. \"\"\"\n",
        "        self._dev_dataset = PeptideMHCDataset(self.__retrieve_dataset(train=False, test=False) )\n",
        "        return DataLoader(\n",
        "            dataset=self._dev_dataset,\n",
        "            batch_size=self.batch_size,\n",
        "            num_workers=self.loader_workers,\n",
        "        )\n"
      ],
      "metadata": {
        "id": "memMiW8q73jf"
      },
      "execution_count": 117,
      "outputs": []
    },
    {
      "cell_type": "code",
      "source": [
        "seed_everything()\n",
        "\n",
        "# ------------------------\n",
        "# 1 INIT LIGHTNING MODEL\n",
        "# ------------------------\n",
        "model = ProtBertBFDRegression()"
      ],
      "metadata": {
        "colab": {
          "base_uri": "https://localhost:8080/"
        },
        "id": "ax3jrmJs8MU_",
        "outputId": "c159a946-1881-49d4-8fb3-8c282ddf8e76"
      },
      "execution_count": 118,
      "outputs": [
        {
          "output_type": "stream",
          "name": "stderr",
          "text": [
            "INFO:lightning_fabric.utilities.seed:Global seed set to 3354726483\n",
            "Found local copy...\n",
            "Loading...\n",
            "Done!\n",
            "Some weights of the model checkpoint at Rostlab/prot_bert_bfd were not used when initializing BertModel: ['cls.predictions.transform.dense.weight', 'cls.predictions.decoder.bias', 'cls.seq_relationship.bias', 'cls.predictions.bias', 'cls.predictions.transform.LayerNorm.weight', 'cls.predictions.transform.dense.bias', 'cls.predictions.transform.LayerNorm.bias', 'cls.seq_relationship.weight', 'cls.predictions.decoder.weight']\n",
            "- This IS expected if you are initializing BertModel from the checkpoint of a model trained on another task or with another architecture (e.g. initializing a BertForSequenceClassification model from a BertForPreTraining model).\n",
            "- This IS NOT expected if you are initializing BertModel from the checkpoint of a model that you expect to be exactly identical (initializing a BertForSequenceClassification model from a BertForSequenceClassification model).\n"
          ]
        }
      ]
    },
    {
      "cell_type": "code",
      "source": [
        "from pytorch_lightning.loggers import TensorBoardLogger\n",
        "from pytorch_lightning.callbacks import ModelCheckpoint\n",
        "from pytorch_lightning.callbacks import EarlyStopping\n",
        "\n",
        "logger = TensorBoardLogger(\"tb_logs\", name=\"MHC_Affinity\")\n",
        "\n",
        "checkpoint_callback = ModelCheckpoint(\n",
        "    dirpath='checkpoints_MHC_Affinity',\n",
        "    filename='best-checkpoint',\n",
        "    save_top_k=1,\n",
        "    verbose=True,\n",
        "    monitor='val_loss',\n",
        "    mode='min'\n",
        ")\n",
        "\n",
        "early_stop_callback = EarlyStopping(\n",
        "   monitor='val_loss',\n",
        "   min_delta=0.00,\n",
        "   patience=10,\n",
        "   verbose=True,\n",
        "   mode='min'\n",
        ")\n",
        "\n",
        "\n",
        "trainer = Trainer(\n",
        "    max_epochs=10,\n",
        "    min_epochs=1,\n",
        "    accumulate_grad_batches=16,\n",
        "    precision='16-mixed',\n",
        "    check_val_every_n_epoch = 1 ,\n",
        "    logger=logger ,\n",
        "    callbacks=[checkpoint_callback , early_stop_callback]  ,\n",
        ")"
      ],
      "metadata": {
        "colab": {
          "base_uri": "https://localhost:8080/"
        },
        "id": "mGE0ly3j_Och",
        "outputId": "fbcbc75f-7f8c-4381-a044-4851781f3661"
      },
      "execution_count": 119,
      "outputs": [
        {
          "output_type": "stream",
          "name": "stderr",
          "text": [
            "INFO:pytorch_lightning.utilities.rank_zero:Using bfloat16 Automatic Mixed Precision (AMP)\n",
            "INFO:pytorch_lightning.utilities.rank_zero:GPU available: False, used: False\n",
            "INFO:pytorch_lightning.utilities.rank_zero:TPU available: False, using: 0 TPU cores\n",
            "INFO:pytorch_lightning.utilities.rank_zero:IPU available: False, using: 0 IPUs\n",
            "INFO:pytorch_lightning.utilities.rank_zero:HPU available: False, using: 0 HPUs\n"
          ]
        }
      ]
    },
    {
      "cell_type": "code",
      "source": [
        "trainer.fit(model)"
      ],
      "metadata": {
        "colab": {
          "base_uri": "https://localhost:8080/",
          "height": 569,
          "referenced_widgets": [
            "4ae634a8bc614018959546d8bd7df924",
            "4f6a7d1856a84ee38fcbfbafa365a2e9",
            "264989d745814ffda38e7e265cf71c5a",
            "a6a5d2bd3a9547c9a0e5726114bcca4a",
            "834dbcf6446c4a7ca14a238237695cb1",
            "c86714d497fc487dad9b5848d16a5690",
            "465abb1e564e428b83bc343ff40d2b67",
            "20d10b82a8aa441fa9a530c6972ea99b",
            "ee6b809dff6a42a08a1551356e5b970e",
            "4b96a59372924766999fab918cf508b2",
            "b3bb6b45d72c43a8962d82a6046f13ff",
            "421a7237b44e4955bec3edc0f4f18832",
            "752aec6e391a40609943a001a9a09a06",
            "be1fae507c074e7dbaf301c76cac391d",
            "5a70dfade70145bdb60f70369717ee19",
            "8688dcbcb1fa4234aee27286948835f1",
            "cfae6c6a64214cd0a7ef22dfd1c985c3",
            "300608581cc341a2901e56588e54a5a4",
            "e11fae4046884f2bb1d10aa9f3d4acab",
            "50c45781447744b8910b5f45007dfcf9",
            "7a1caf10836f4835856e345f02e5f09f",
            "71f1e59ceb694575a67b6699ff7322ba"
          ]
        },
        "id": "KBi8E5VZ_Xgl",
        "outputId": "34f27835-451f-46a1-f8ad-f677e8753d03"
      },
      "execution_count": 120,
      "outputs": [
        {
          "output_type": "stream",
          "name": "stderr",
          "text": [
            "INFO:pytorch_lightning.callbacks.model_summary:\n",
            "  | Name            | Type       | Params\n",
            "-----------------------------------------------\n",
            "0 | ProtBertBFD     | BertModel  | 419 M \n",
            "1 | regression_head | Sequential | 8.4 M \n",
            "2 | _loss           | MSELoss    | 0     \n",
            "-----------------------------------------------\n",
            "8.4 M     Trainable params\n",
            "419 M     Non-trainable params\n",
            "428 M     Total params\n",
            "1,713.295 Total estimated model params size (MB)\n"
          ]
        },
        {
          "output_type": "display_data",
          "data": {
            "text/plain": [
              "Sanity Checking: 0it [00:00, ?it/s]"
            ],
            "application/vnd.jupyter.widget-view+json": {
              "version_major": 2,
              "version_minor": 0,
              "model_id": "4ae634a8bc614018959546d8bd7df924"
            }
          },
          "metadata": {}
        },
        {
          "output_type": "display_data",
          "data": {
            "text/plain": [
              "Training: 0it [00:00, ?it/s]"
            ],
            "application/vnd.jupyter.widget-view+json": {
              "version_major": 2,
              "version_minor": 0,
              "model_id": "421a7237b44e4955bec3edc0f4f18832"
            }
          },
          "metadata": {}
        },
        {
          "output_type": "error",
          "ename": "RuntimeError",
          "evalue": "ignored",
          "traceback": [
            "\u001b[0;31m---------------------------------------------------------------------------\u001b[0m",
            "\u001b[0;31mRuntimeError\u001b[0m                              Traceback (most recent call last)",
            "\u001b[0;32m<ipython-input-120-45d4afebefac>\u001b[0m in \u001b[0;36m<cell line: 1>\u001b[0;34m()\u001b[0m\n\u001b[0;32m----> 1\u001b[0;31m \u001b[0mtrainer\u001b[0m\u001b[0;34m.\u001b[0m\u001b[0mfit\u001b[0m\u001b[0;34m(\u001b[0m\u001b[0mmodel\u001b[0m\u001b[0;34m)\u001b[0m\u001b[0;34m\u001b[0m\u001b[0;34m\u001b[0m\u001b[0m\n\u001b[0m",
            "\u001b[0;32m/usr/local/lib/python3.10/dist-packages/pytorch_lightning/trainer/trainer.py\u001b[0m in \u001b[0;36mfit\u001b[0;34m(self, model, train_dataloaders, val_dataloaders, datamodule, ckpt_path)\u001b[0m\n\u001b[1;32m    529\u001b[0m         \u001b[0mmodel\u001b[0m \u001b[0;34m=\u001b[0m \u001b[0m_maybe_unwrap_optimized\u001b[0m\u001b[0;34m(\u001b[0m\u001b[0mmodel\u001b[0m\u001b[0;34m)\u001b[0m\u001b[0;34m\u001b[0m\u001b[0;34m\u001b[0m\u001b[0m\n\u001b[1;32m    530\u001b[0m         \u001b[0mself\u001b[0m\u001b[0;34m.\u001b[0m\u001b[0mstrategy\u001b[0m\u001b[0;34m.\u001b[0m\u001b[0m_lightning_module\u001b[0m \u001b[0;34m=\u001b[0m \u001b[0mmodel\u001b[0m\u001b[0;34m\u001b[0m\u001b[0;34m\u001b[0m\u001b[0m\n\u001b[0;32m--> 531\u001b[0;31m         call._call_and_handle_interrupt(\n\u001b[0m\u001b[1;32m    532\u001b[0m             \u001b[0mself\u001b[0m\u001b[0;34m,\u001b[0m \u001b[0mself\u001b[0m\u001b[0;34m.\u001b[0m\u001b[0m_fit_impl\u001b[0m\u001b[0;34m,\u001b[0m \u001b[0mmodel\u001b[0m\u001b[0;34m,\u001b[0m \u001b[0mtrain_dataloaders\u001b[0m\u001b[0;34m,\u001b[0m \u001b[0mval_dataloaders\u001b[0m\u001b[0;34m,\u001b[0m \u001b[0mdatamodule\u001b[0m\u001b[0;34m,\u001b[0m \u001b[0mckpt_path\u001b[0m\u001b[0;34m\u001b[0m\u001b[0;34m\u001b[0m\u001b[0m\n\u001b[1;32m    533\u001b[0m         )\n",
            "\u001b[0;32m/usr/local/lib/python3.10/dist-packages/pytorch_lightning/trainer/call.py\u001b[0m in \u001b[0;36m_call_and_handle_interrupt\u001b[0;34m(trainer, trainer_fn, *args, **kwargs)\u001b[0m\n\u001b[1;32m     40\u001b[0m         \u001b[0;32mif\u001b[0m \u001b[0mtrainer\u001b[0m\u001b[0;34m.\u001b[0m\u001b[0mstrategy\u001b[0m\u001b[0;34m.\u001b[0m\u001b[0mlauncher\u001b[0m \u001b[0;32mis\u001b[0m \u001b[0;32mnot\u001b[0m \u001b[0;32mNone\u001b[0m\u001b[0;34m:\u001b[0m\u001b[0;34m\u001b[0m\u001b[0;34m\u001b[0m\u001b[0m\n\u001b[1;32m     41\u001b[0m             \u001b[0;32mreturn\u001b[0m \u001b[0mtrainer\u001b[0m\u001b[0;34m.\u001b[0m\u001b[0mstrategy\u001b[0m\u001b[0;34m.\u001b[0m\u001b[0mlauncher\u001b[0m\u001b[0;34m.\u001b[0m\u001b[0mlaunch\u001b[0m\u001b[0;34m(\u001b[0m\u001b[0mtrainer_fn\u001b[0m\u001b[0;34m,\u001b[0m \u001b[0;34m*\u001b[0m\u001b[0margs\u001b[0m\u001b[0;34m,\u001b[0m \u001b[0mtrainer\u001b[0m\u001b[0;34m=\u001b[0m\u001b[0mtrainer\u001b[0m\u001b[0;34m,\u001b[0m \u001b[0;34m**\u001b[0m\u001b[0mkwargs\u001b[0m\u001b[0;34m)\u001b[0m\u001b[0;34m\u001b[0m\u001b[0;34m\u001b[0m\u001b[0m\n\u001b[0;32m---> 42\u001b[0;31m         \u001b[0;32mreturn\u001b[0m \u001b[0mtrainer_fn\u001b[0m\u001b[0;34m(\u001b[0m\u001b[0;34m*\u001b[0m\u001b[0margs\u001b[0m\u001b[0;34m,\u001b[0m \u001b[0;34m**\u001b[0m\u001b[0mkwargs\u001b[0m\u001b[0;34m)\u001b[0m\u001b[0;34m\u001b[0m\u001b[0;34m\u001b[0m\u001b[0m\n\u001b[0m\u001b[1;32m     43\u001b[0m \u001b[0;34m\u001b[0m\u001b[0m\n\u001b[1;32m     44\u001b[0m     \u001b[0;32mexcept\u001b[0m \u001b[0m_TunerExitException\u001b[0m\u001b[0;34m:\u001b[0m\u001b[0;34m\u001b[0m\u001b[0;34m\u001b[0m\u001b[0m\n",
            "\u001b[0;32m/usr/local/lib/python3.10/dist-packages/pytorch_lightning/trainer/trainer.py\u001b[0m in \u001b[0;36m_fit_impl\u001b[0;34m(self, model, train_dataloaders, val_dataloaders, datamodule, ckpt_path)\u001b[0m\n\u001b[1;32m    568\u001b[0m             \u001b[0mmodel_connected\u001b[0m\u001b[0;34m=\u001b[0m\u001b[0mself\u001b[0m\u001b[0;34m.\u001b[0m\u001b[0mlightning_module\u001b[0m \u001b[0;32mis\u001b[0m \u001b[0;32mnot\u001b[0m \u001b[0;32mNone\u001b[0m\u001b[0;34m,\u001b[0m\u001b[0;34m\u001b[0m\u001b[0;34m\u001b[0m\u001b[0m\n\u001b[1;32m    569\u001b[0m         )\n\u001b[0;32m--> 570\u001b[0;31m         \u001b[0mself\u001b[0m\u001b[0;34m.\u001b[0m\u001b[0m_run\u001b[0m\u001b[0;34m(\u001b[0m\u001b[0mmodel\u001b[0m\u001b[0;34m,\u001b[0m \u001b[0mckpt_path\u001b[0m\u001b[0;34m=\u001b[0m\u001b[0mckpt_path\u001b[0m\u001b[0;34m)\u001b[0m\u001b[0;34m\u001b[0m\u001b[0;34m\u001b[0m\u001b[0m\n\u001b[0m\u001b[1;32m    571\u001b[0m \u001b[0;34m\u001b[0m\u001b[0m\n\u001b[1;32m    572\u001b[0m         \u001b[0;32massert\u001b[0m \u001b[0mself\u001b[0m\u001b[0;34m.\u001b[0m\u001b[0mstate\u001b[0m\u001b[0;34m.\u001b[0m\u001b[0mstopped\u001b[0m\u001b[0;34m\u001b[0m\u001b[0;34m\u001b[0m\u001b[0m\n",
            "\u001b[0;32m/usr/local/lib/python3.10/dist-packages/pytorch_lightning/trainer/trainer.py\u001b[0m in \u001b[0;36m_run\u001b[0;34m(self, model, ckpt_path)\u001b[0m\n\u001b[1;32m    973\u001b[0m         \u001b[0;31m# RUN THE TRAINER\u001b[0m\u001b[0;34m\u001b[0m\u001b[0;34m\u001b[0m\u001b[0m\n\u001b[1;32m    974\u001b[0m         \u001b[0;31m# ----------------------------\u001b[0m\u001b[0;34m\u001b[0m\u001b[0;34m\u001b[0m\u001b[0m\n\u001b[0;32m--> 975\u001b[0;31m         \u001b[0mresults\u001b[0m \u001b[0;34m=\u001b[0m \u001b[0mself\u001b[0m\u001b[0;34m.\u001b[0m\u001b[0m_run_stage\u001b[0m\u001b[0;34m(\u001b[0m\u001b[0;34m)\u001b[0m\u001b[0;34m\u001b[0m\u001b[0;34m\u001b[0m\u001b[0m\n\u001b[0m\u001b[1;32m    976\u001b[0m \u001b[0;34m\u001b[0m\u001b[0m\n\u001b[1;32m    977\u001b[0m         \u001b[0;31m# ----------------------------\u001b[0m\u001b[0;34m\u001b[0m\u001b[0;34m\u001b[0m\u001b[0m\n",
            "\u001b[0;32m/usr/local/lib/python3.10/dist-packages/pytorch_lightning/trainer/trainer.py\u001b[0m in \u001b[0;36m_run_stage\u001b[0;34m(self)\u001b[0m\n\u001b[1;32m   1016\u001b[0m                 \u001b[0mself\u001b[0m\u001b[0;34m.\u001b[0m\u001b[0m_run_sanity_check\u001b[0m\u001b[0;34m(\u001b[0m\u001b[0;34m)\u001b[0m\u001b[0;34m\u001b[0m\u001b[0;34m\u001b[0m\u001b[0m\n\u001b[1;32m   1017\u001b[0m             \u001b[0;32mwith\u001b[0m \u001b[0mtorch\u001b[0m\u001b[0;34m.\u001b[0m\u001b[0mautograd\u001b[0m\u001b[0;34m.\u001b[0m\u001b[0mset_detect_anomaly\u001b[0m\u001b[0;34m(\u001b[0m\u001b[0mself\u001b[0m\u001b[0;34m.\u001b[0m\u001b[0m_detect_anomaly\u001b[0m\u001b[0;34m)\u001b[0m\u001b[0;34m:\u001b[0m\u001b[0;34m\u001b[0m\u001b[0;34m\u001b[0m\u001b[0m\n\u001b[0;32m-> 1018\u001b[0;31m                 \u001b[0mself\u001b[0m\u001b[0;34m.\u001b[0m\u001b[0mfit_loop\u001b[0m\u001b[0;34m.\u001b[0m\u001b[0mrun\u001b[0m\u001b[0;34m(\u001b[0m\u001b[0;34m)\u001b[0m\u001b[0;34m\u001b[0m\u001b[0;34m\u001b[0m\u001b[0m\n\u001b[0m\u001b[1;32m   1019\u001b[0m             \u001b[0;32mreturn\u001b[0m \u001b[0;32mNone\u001b[0m\u001b[0;34m\u001b[0m\u001b[0;34m\u001b[0m\u001b[0m\n\u001b[1;32m   1020\u001b[0m         \u001b[0;32mraise\u001b[0m \u001b[0mRuntimeError\u001b[0m\u001b[0;34m(\u001b[0m\u001b[0;34mf\"Unexpected state {self.state}\"\u001b[0m\u001b[0;34m)\u001b[0m\u001b[0;34m\u001b[0m\u001b[0;34m\u001b[0m\u001b[0m\n",
            "\u001b[0;32m/usr/local/lib/python3.10/dist-packages/pytorch_lightning/loops/fit_loop.py\u001b[0m in \u001b[0;36mrun\u001b[0;34m(self)\u001b[0m\n\u001b[1;32m    199\u001b[0m             \u001b[0;32mtry\u001b[0m\u001b[0;34m:\u001b[0m\u001b[0;34m\u001b[0m\u001b[0;34m\u001b[0m\u001b[0m\n\u001b[1;32m    200\u001b[0m                 \u001b[0mself\u001b[0m\u001b[0;34m.\u001b[0m\u001b[0mon_advance_start\u001b[0m\u001b[0;34m(\u001b[0m\u001b[0;34m)\u001b[0m\u001b[0;34m\u001b[0m\u001b[0;34m\u001b[0m\u001b[0m\n\u001b[0;32m--> 201\u001b[0;31m                 \u001b[0mself\u001b[0m\u001b[0;34m.\u001b[0m\u001b[0madvance\u001b[0m\u001b[0;34m(\u001b[0m\u001b[0;34m)\u001b[0m\u001b[0;34m\u001b[0m\u001b[0;34m\u001b[0m\u001b[0m\n\u001b[0m\u001b[1;32m    202\u001b[0m                 \u001b[0mself\u001b[0m\u001b[0;34m.\u001b[0m\u001b[0mon_advance_end\u001b[0m\u001b[0;34m(\u001b[0m\u001b[0;34m)\u001b[0m\u001b[0;34m\u001b[0m\u001b[0;34m\u001b[0m\u001b[0m\n\u001b[1;32m    203\u001b[0m                 \u001b[0mself\u001b[0m\u001b[0;34m.\u001b[0m\u001b[0m_restarting\u001b[0m \u001b[0;34m=\u001b[0m \u001b[0;32mFalse\u001b[0m\u001b[0;34m\u001b[0m\u001b[0;34m\u001b[0m\u001b[0m\n",
            "\u001b[0;32m/usr/local/lib/python3.10/dist-packages/pytorch_lightning/loops/fit_loop.py\u001b[0m in \u001b[0;36madvance\u001b[0;34m(self)\u001b[0m\n\u001b[1;32m    352\u001b[0m         \u001b[0mself\u001b[0m\u001b[0;34m.\u001b[0m\u001b[0m_data_fetcher\u001b[0m\u001b[0;34m.\u001b[0m\u001b[0msetup\u001b[0m\u001b[0;34m(\u001b[0m\u001b[0mcombined_loader\u001b[0m\u001b[0;34m)\u001b[0m\u001b[0;34m\u001b[0m\u001b[0;34m\u001b[0m\u001b[0m\n\u001b[1;32m    353\u001b[0m         \u001b[0;32mwith\u001b[0m \u001b[0mself\u001b[0m\u001b[0;34m.\u001b[0m\u001b[0mtrainer\u001b[0m\u001b[0;34m.\u001b[0m\u001b[0mprofiler\u001b[0m\u001b[0;34m.\u001b[0m\u001b[0mprofile\u001b[0m\u001b[0;34m(\u001b[0m\u001b[0;34m\"run_training_epoch\"\u001b[0m\u001b[0;34m)\u001b[0m\u001b[0;34m:\u001b[0m\u001b[0;34m\u001b[0m\u001b[0;34m\u001b[0m\u001b[0m\n\u001b[0;32m--> 354\u001b[0;31m             \u001b[0mself\u001b[0m\u001b[0;34m.\u001b[0m\u001b[0mepoch_loop\u001b[0m\u001b[0;34m.\u001b[0m\u001b[0mrun\u001b[0m\u001b[0;34m(\u001b[0m\u001b[0mself\u001b[0m\u001b[0;34m.\u001b[0m\u001b[0m_data_fetcher\u001b[0m\u001b[0;34m)\u001b[0m\u001b[0;34m\u001b[0m\u001b[0;34m\u001b[0m\u001b[0m\n\u001b[0m\u001b[1;32m    355\u001b[0m \u001b[0;34m\u001b[0m\u001b[0m\n\u001b[1;32m    356\u001b[0m     \u001b[0;32mdef\u001b[0m \u001b[0mon_advance_end\u001b[0m\u001b[0;34m(\u001b[0m\u001b[0mself\u001b[0m\u001b[0;34m)\u001b[0m \u001b[0;34m->\u001b[0m \u001b[0;32mNone\u001b[0m\u001b[0;34m:\u001b[0m\u001b[0;34m\u001b[0m\u001b[0;34m\u001b[0m\u001b[0m\n",
            "\u001b[0;32m/usr/local/lib/python3.10/dist-packages/pytorch_lightning/loops/training_epoch_loop.py\u001b[0m in \u001b[0;36mrun\u001b[0;34m(self, data_fetcher)\u001b[0m\n\u001b[1;32m    131\u001b[0m         \u001b[0;32mwhile\u001b[0m \u001b[0;32mnot\u001b[0m \u001b[0mself\u001b[0m\u001b[0;34m.\u001b[0m\u001b[0mdone\u001b[0m\u001b[0;34m:\u001b[0m\u001b[0;34m\u001b[0m\u001b[0;34m\u001b[0m\u001b[0m\n\u001b[1;32m    132\u001b[0m             \u001b[0;32mtry\u001b[0m\u001b[0;34m:\u001b[0m\u001b[0;34m\u001b[0m\u001b[0;34m\u001b[0m\u001b[0m\n\u001b[0;32m--> 133\u001b[0;31m                 \u001b[0mself\u001b[0m\u001b[0;34m.\u001b[0m\u001b[0madvance\u001b[0m\u001b[0;34m(\u001b[0m\u001b[0mdata_fetcher\u001b[0m\u001b[0;34m)\u001b[0m\u001b[0;34m\u001b[0m\u001b[0;34m\u001b[0m\u001b[0m\n\u001b[0m\u001b[1;32m    134\u001b[0m                 \u001b[0mself\u001b[0m\u001b[0;34m.\u001b[0m\u001b[0mon_advance_end\u001b[0m\u001b[0;34m(\u001b[0m\u001b[0;34m)\u001b[0m\u001b[0;34m\u001b[0m\u001b[0;34m\u001b[0m\u001b[0m\n\u001b[1;32m    135\u001b[0m                 \u001b[0mself\u001b[0m\u001b[0;34m.\u001b[0m\u001b[0m_restarting\u001b[0m \u001b[0;34m=\u001b[0m \u001b[0;32mFalse\u001b[0m\u001b[0;34m\u001b[0m\u001b[0;34m\u001b[0m\u001b[0m\n",
            "\u001b[0;32m/usr/local/lib/python3.10/dist-packages/pytorch_lightning/loops/training_epoch_loop.py\u001b[0m in \u001b[0;36madvance\u001b[0;34m(self, data_fetcher)\u001b[0m\n\u001b[1;32m    216\u001b[0m                 \u001b[0;32mif\u001b[0m \u001b[0mtrainer\u001b[0m\u001b[0;34m.\u001b[0m\u001b[0mlightning_module\u001b[0m\u001b[0;34m.\u001b[0m\u001b[0mautomatic_optimization\u001b[0m\u001b[0;34m:\u001b[0m\u001b[0;34m\u001b[0m\u001b[0;34m\u001b[0m\u001b[0m\n\u001b[1;32m    217\u001b[0m                     \u001b[0;31m# in automatic optimization, there can only be one optimizer\u001b[0m\u001b[0;34m\u001b[0m\u001b[0;34m\u001b[0m\u001b[0m\n\u001b[0;32m--> 218\u001b[0;31m                     \u001b[0mbatch_output\u001b[0m \u001b[0;34m=\u001b[0m \u001b[0mself\u001b[0m\u001b[0;34m.\u001b[0m\u001b[0mautomatic_optimization\u001b[0m\u001b[0;34m.\u001b[0m\u001b[0mrun\u001b[0m\u001b[0;34m(\u001b[0m\u001b[0mtrainer\u001b[0m\u001b[0;34m.\u001b[0m\u001b[0moptimizers\u001b[0m\u001b[0;34m[\u001b[0m\u001b[0;36m0\u001b[0m\u001b[0;34m]\u001b[0m\u001b[0;34m,\u001b[0m \u001b[0mkwargs\u001b[0m\u001b[0;34m)\u001b[0m\u001b[0;34m\u001b[0m\u001b[0;34m\u001b[0m\u001b[0m\n\u001b[0m\u001b[1;32m    219\u001b[0m                 \u001b[0;32melse\u001b[0m\u001b[0;34m:\u001b[0m\u001b[0;34m\u001b[0m\u001b[0;34m\u001b[0m\u001b[0m\n\u001b[1;32m    220\u001b[0m                     \u001b[0mbatch_output\u001b[0m \u001b[0;34m=\u001b[0m \u001b[0mself\u001b[0m\u001b[0;34m.\u001b[0m\u001b[0mmanual_optimization\u001b[0m\u001b[0;34m.\u001b[0m\u001b[0mrun\u001b[0m\u001b[0;34m(\u001b[0m\u001b[0mkwargs\u001b[0m\u001b[0;34m)\u001b[0m\u001b[0;34m\u001b[0m\u001b[0;34m\u001b[0m\u001b[0m\n",
            "\u001b[0;32m/usr/local/lib/python3.10/dist-packages/pytorch_lightning/loops/optimization/automatic.py\u001b[0m in \u001b[0;36mrun\u001b[0;34m(self, optimizer, kwargs)\u001b[0m\n\u001b[1;32m    176\u001b[0m             \u001b[0;31m# automatic_optimization=True: perform ddp sync only when performing optimizer_step\u001b[0m\u001b[0;34m\u001b[0m\u001b[0;34m\u001b[0m\u001b[0m\n\u001b[1;32m    177\u001b[0m             \u001b[0;32mwith\u001b[0m \u001b[0m_block_parallel_sync_behavior\u001b[0m\u001b[0;34m(\u001b[0m\u001b[0mself\u001b[0m\u001b[0;34m.\u001b[0m\u001b[0mtrainer\u001b[0m\u001b[0;34m.\u001b[0m\u001b[0mstrategy\u001b[0m\u001b[0;34m,\u001b[0m \u001b[0mblock\u001b[0m\u001b[0;34m=\u001b[0m\u001b[0;32mTrue\u001b[0m\u001b[0;34m)\u001b[0m\u001b[0;34m:\u001b[0m\u001b[0;34m\u001b[0m\u001b[0;34m\u001b[0m\u001b[0m\n\u001b[0;32m--> 178\u001b[0;31m                 \u001b[0mclosure\u001b[0m\u001b[0;34m(\u001b[0m\u001b[0;34m)\u001b[0m\u001b[0;34m\u001b[0m\u001b[0;34m\u001b[0m\u001b[0m\n\u001b[0m\u001b[1;32m    179\u001b[0m \u001b[0;34m\u001b[0m\u001b[0m\n\u001b[1;32m    180\u001b[0m         \u001b[0;31m# ------------------------------\u001b[0m\u001b[0;34m\u001b[0m\u001b[0;34m\u001b[0m\u001b[0m\n",
            "\u001b[0;32m/usr/local/lib/python3.10/dist-packages/pytorch_lightning/loops/optimization/automatic.py\u001b[0m in \u001b[0;36m__call__\u001b[0;34m(self, *args, **kwargs)\u001b[0m\n\u001b[1;32m    138\u001b[0m \u001b[0;34m\u001b[0m\u001b[0m\n\u001b[1;32m    139\u001b[0m     \u001b[0;32mdef\u001b[0m \u001b[0m__call__\u001b[0m\u001b[0;34m(\u001b[0m\u001b[0mself\u001b[0m\u001b[0;34m,\u001b[0m \u001b[0;34m*\u001b[0m\u001b[0margs\u001b[0m\u001b[0;34m:\u001b[0m \u001b[0mAny\u001b[0m\u001b[0;34m,\u001b[0m \u001b[0;34m**\u001b[0m\u001b[0mkwargs\u001b[0m\u001b[0;34m:\u001b[0m \u001b[0mAny\u001b[0m\u001b[0;34m)\u001b[0m \u001b[0;34m->\u001b[0m \u001b[0mOptional\u001b[0m\u001b[0;34m[\u001b[0m\u001b[0mTensor\u001b[0m\u001b[0;34m]\u001b[0m\u001b[0;34m:\u001b[0m\u001b[0;34m\u001b[0m\u001b[0;34m\u001b[0m\u001b[0m\n\u001b[0;32m--> 140\u001b[0;31m         \u001b[0mself\u001b[0m\u001b[0;34m.\u001b[0m\u001b[0m_result\u001b[0m \u001b[0;34m=\u001b[0m \u001b[0mself\u001b[0m\u001b[0;34m.\u001b[0m\u001b[0mclosure\u001b[0m\u001b[0;34m(\u001b[0m\u001b[0;34m*\u001b[0m\u001b[0margs\u001b[0m\u001b[0;34m,\u001b[0m \u001b[0;34m**\u001b[0m\u001b[0mkwargs\u001b[0m\u001b[0;34m)\u001b[0m\u001b[0;34m\u001b[0m\u001b[0;34m\u001b[0m\u001b[0m\n\u001b[0m\u001b[1;32m    141\u001b[0m         \u001b[0;32mreturn\u001b[0m \u001b[0mself\u001b[0m\u001b[0;34m.\u001b[0m\u001b[0m_result\u001b[0m\u001b[0;34m.\u001b[0m\u001b[0mloss\u001b[0m\u001b[0;34m\u001b[0m\u001b[0;34m\u001b[0m\u001b[0m\n\u001b[1;32m    142\u001b[0m \u001b[0;34m\u001b[0m\u001b[0m\n",
            "\u001b[0;32m/usr/local/lib/python3.10/dist-packages/pytorch_lightning/loops/optimization/automatic.py\u001b[0m in \u001b[0;36mclosure\u001b[0;34m(self, *args, **kwargs)\u001b[0m\n\u001b[1;32m    133\u001b[0m \u001b[0;34m\u001b[0m\u001b[0m\n\u001b[1;32m    134\u001b[0m         \u001b[0;32mif\u001b[0m \u001b[0mself\u001b[0m\u001b[0;34m.\u001b[0m\u001b[0m_backward_fn\u001b[0m \u001b[0;32mis\u001b[0m \u001b[0;32mnot\u001b[0m \u001b[0;32mNone\u001b[0m \u001b[0;32mand\u001b[0m \u001b[0mstep_output\u001b[0m\u001b[0;34m.\u001b[0m\u001b[0mclosure_loss\u001b[0m \u001b[0;32mis\u001b[0m \u001b[0;32mnot\u001b[0m \u001b[0;32mNone\u001b[0m\u001b[0;34m:\u001b[0m\u001b[0;34m\u001b[0m\u001b[0;34m\u001b[0m\u001b[0m\n\u001b[0;32m--> 135\u001b[0;31m             \u001b[0mself\u001b[0m\u001b[0;34m.\u001b[0m\u001b[0m_backward_fn\u001b[0m\u001b[0;34m(\u001b[0m\u001b[0mstep_output\u001b[0m\u001b[0;34m.\u001b[0m\u001b[0mclosure_loss\u001b[0m\u001b[0;34m)\u001b[0m\u001b[0;34m\u001b[0m\u001b[0;34m\u001b[0m\u001b[0m\n\u001b[0m\u001b[1;32m    136\u001b[0m \u001b[0;34m\u001b[0m\u001b[0m\n\u001b[1;32m    137\u001b[0m         \u001b[0;32mreturn\u001b[0m \u001b[0mstep_output\u001b[0m\u001b[0;34m\u001b[0m\u001b[0;34m\u001b[0m\u001b[0m\n",
            "\u001b[0;32m/usr/local/lib/python3.10/dist-packages/pytorch_lightning/loops/optimization/automatic.py\u001b[0m in \u001b[0;36mbackward_fn\u001b[0;34m(loss)\u001b[0m\n\u001b[1;32m    230\u001b[0m \u001b[0;34m\u001b[0m\u001b[0m\n\u001b[1;32m    231\u001b[0m         \u001b[0;32mdef\u001b[0m \u001b[0mbackward_fn\u001b[0m\u001b[0;34m(\u001b[0m\u001b[0mloss\u001b[0m\u001b[0;34m:\u001b[0m \u001b[0mTensor\u001b[0m\u001b[0;34m)\u001b[0m \u001b[0;34m->\u001b[0m \u001b[0;32mNone\u001b[0m\u001b[0;34m:\u001b[0m\u001b[0;34m\u001b[0m\u001b[0;34m\u001b[0m\u001b[0m\n\u001b[0;32m--> 232\u001b[0;31m             \u001b[0mcall\u001b[0m\u001b[0;34m.\u001b[0m\u001b[0m_call_strategy_hook\u001b[0m\u001b[0;34m(\u001b[0m\u001b[0mself\u001b[0m\u001b[0;34m.\u001b[0m\u001b[0mtrainer\u001b[0m\u001b[0;34m,\u001b[0m \u001b[0;34m\"backward\"\u001b[0m\u001b[0;34m,\u001b[0m \u001b[0mloss\u001b[0m\u001b[0;34m,\u001b[0m \u001b[0moptimizer\u001b[0m\u001b[0;34m)\u001b[0m\u001b[0;34m\u001b[0m\u001b[0;34m\u001b[0m\u001b[0m\n\u001b[0m\u001b[1;32m    233\u001b[0m \u001b[0;34m\u001b[0m\u001b[0m\n\u001b[1;32m    234\u001b[0m         \u001b[0;32mreturn\u001b[0m \u001b[0mbackward_fn\u001b[0m\u001b[0;34m\u001b[0m\u001b[0;34m\u001b[0m\u001b[0m\n",
            "\u001b[0;32m/usr/local/lib/python3.10/dist-packages/pytorch_lightning/trainer/call.py\u001b[0m in \u001b[0;36m_call_strategy_hook\u001b[0;34m(trainer, hook_name, *args, **kwargs)\u001b[0m\n\u001b[1;32m    285\u001b[0m \u001b[0;34m\u001b[0m\u001b[0m\n\u001b[1;32m    286\u001b[0m     \u001b[0;32mwith\u001b[0m \u001b[0mtrainer\u001b[0m\u001b[0;34m.\u001b[0m\u001b[0mprofiler\u001b[0m\u001b[0;34m.\u001b[0m\u001b[0mprofile\u001b[0m\u001b[0;34m(\u001b[0m\u001b[0;34mf\"[Strategy]{trainer.strategy.__class__.__name__}.{hook_name}\"\u001b[0m\u001b[0;34m)\u001b[0m\u001b[0;34m:\u001b[0m\u001b[0;34m\u001b[0m\u001b[0;34m\u001b[0m\u001b[0m\n\u001b[0;32m--> 287\u001b[0;31m         \u001b[0moutput\u001b[0m \u001b[0;34m=\u001b[0m \u001b[0mfn\u001b[0m\u001b[0;34m(\u001b[0m\u001b[0;34m*\u001b[0m\u001b[0margs\u001b[0m\u001b[0;34m,\u001b[0m \u001b[0;34m**\u001b[0m\u001b[0mkwargs\u001b[0m\u001b[0;34m)\u001b[0m\u001b[0;34m\u001b[0m\u001b[0;34m\u001b[0m\u001b[0m\n\u001b[0m\u001b[1;32m    288\u001b[0m \u001b[0;34m\u001b[0m\u001b[0m\n\u001b[1;32m    289\u001b[0m     \u001b[0;31m# restore current_fx when nested context\u001b[0m\u001b[0;34m\u001b[0m\u001b[0;34m\u001b[0m\u001b[0m\n",
            "\u001b[0;32m/usr/local/lib/python3.10/dist-packages/pytorch_lightning/strategies/strategy.py\u001b[0m in \u001b[0;36mbackward\u001b[0;34m(self, closure_loss, optimizer, *args, **kwargs)\u001b[0m\n\u001b[1;32m    198\u001b[0m         \u001b[0mclosure_loss\u001b[0m \u001b[0;34m=\u001b[0m \u001b[0mself\u001b[0m\u001b[0;34m.\u001b[0m\u001b[0mprecision_plugin\u001b[0m\u001b[0;34m.\u001b[0m\u001b[0mpre_backward\u001b[0m\u001b[0;34m(\u001b[0m\u001b[0mclosure_loss\u001b[0m\u001b[0;34m,\u001b[0m \u001b[0mself\u001b[0m\u001b[0;34m.\u001b[0m\u001b[0mlightning_module\u001b[0m\u001b[0;34m)\u001b[0m\u001b[0;34m\u001b[0m\u001b[0;34m\u001b[0m\u001b[0m\n\u001b[1;32m    199\u001b[0m \u001b[0;34m\u001b[0m\u001b[0m\n\u001b[0;32m--> 200\u001b[0;31m         \u001b[0mself\u001b[0m\u001b[0;34m.\u001b[0m\u001b[0mprecision_plugin\u001b[0m\u001b[0;34m.\u001b[0m\u001b[0mbackward\u001b[0m\u001b[0;34m(\u001b[0m\u001b[0mclosure_loss\u001b[0m\u001b[0;34m,\u001b[0m \u001b[0mself\u001b[0m\u001b[0;34m.\u001b[0m\u001b[0mlightning_module\u001b[0m\u001b[0;34m,\u001b[0m \u001b[0moptimizer\u001b[0m\u001b[0;34m,\u001b[0m \u001b[0;34m*\u001b[0m\u001b[0margs\u001b[0m\u001b[0;34m,\u001b[0m \u001b[0;34m**\u001b[0m\u001b[0mkwargs\u001b[0m\u001b[0;34m)\u001b[0m\u001b[0;34m\u001b[0m\u001b[0;34m\u001b[0m\u001b[0m\n\u001b[0m\u001b[1;32m    201\u001b[0m \u001b[0;34m\u001b[0m\u001b[0m\n\u001b[1;32m    202\u001b[0m         \u001b[0mclosure_loss\u001b[0m \u001b[0;34m=\u001b[0m \u001b[0mself\u001b[0m\u001b[0;34m.\u001b[0m\u001b[0mprecision_plugin\u001b[0m\u001b[0;34m.\u001b[0m\u001b[0mpost_backward\u001b[0m\u001b[0;34m(\u001b[0m\u001b[0mclosure_loss\u001b[0m\u001b[0;34m,\u001b[0m \u001b[0mself\u001b[0m\u001b[0;34m.\u001b[0m\u001b[0mlightning_module\u001b[0m\u001b[0;34m)\u001b[0m\u001b[0;34m\u001b[0m\u001b[0;34m\u001b[0m\u001b[0m\n",
            "\u001b[0;32m/usr/local/lib/python3.10/dist-packages/pytorch_lightning/plugins/precision/precision_plugin.py\u001b[0m in \u001b[0;36mbackward\u001b[0;34m(self, tensor, model, optimizer, *args, **kwargs)\u001b[0m\n\u001b[1;32m     65\u001b[0m             \u001b[0;31m\\\u001b[0m\u001b[0;34m**\u001b[0m\u001b[0mkwargs\u001b[0m\u001b[0;34m:\u001b[0m \u001b[0mKeyword\u001b[0m \u001b[0marguments\u001b[0m \u001b[0;32mfor\u001b[0m \u001b[0mthe\u001b[0m \u001b[0msame\u001b[0m \u001b[0mpurpose\u001b[0m \u001b[0;32mas\u001b[0m\u001b[0;31m \u001b[0m\u001b[0;31m`\u001b[0m\u001b[0;31m`\u001b[0m\u001b[0;34m*\u001b[0m\u001b[0margs\u001b[0m\u001b[0;31m`\u001b[0m\u001b[0;31m`\u001b[0m\u001b[0;34m.\u001b[0m\u001b[0;34m\u001b[0m\u001b[0;34m\u001b[0m\u001b[0m\n\u001b[1;32m     66\u001b[0m         \"\"\"\n\u001b[0;32m---> 67\u001b[0;31m         \u001b[0mmodel\u001b[0m\u001b[0;34m.\u001b[0m\u001b[0mbackward\u001b[0m\u001b[0;34m(\u001b[0m\u001b[0mtensor\u001b[0m\u001b[0;34m,\u001b[0m \u001b[0;34m*\u001b[0m\u001b[0margs\u001b[0m\u001b[0;34m,\u001b[0m \u001b[0;34m**\u001b[0m\u001b[0mkwargs\u001b[0m\u001b[0;34m)\u001b[0m\u001b[0;34m\u001b[0m\u001b[0;34m\u001b[0m\u001b[0m\n\u001b[0m\u001b[1;32m     68\u001b[0m \u001b[0;34m\u001b[0m\u001b[0m\n\u001b[1;32m     69\u001b[0m     \u001b[0;32mdef\u001b[0m \u001b[0mpost_backward\u001b[0m\u001b[0;34m(\u001b[0m\u001b[0mself\u001b[0m\u001b[0;34m,\u001b[0m \u001b[0mtensor\u001b[0m\u001b[0;34m:\u001b[0m \u001b[0mTensor\u001b[0m\u001b[0;34m,\u001b[0m \u001b[0mmodule\u001b[0m\u001b[0;34m:\u001b[0m \u001b[0;34m\"pl.LightningModule\"\u001b[0m\u001b[0;34m)\u001b[0m \u001b[0;34m->\u001b[0m \u001b[0mTensor\u001b[0m\u001b[0;34m:\u001b[0m  \u001b[0;31m# type: ignore[override]\u001b[0m\u001b[0;34m\u001b[0m\u001b[0;34m\u001b[0m\u001b[0m\n",
            "\u001b[0;32m/usr/local/lib/python3.10/dist-packages/pytorch_lightning/core/module.py\u001b[0m in \u001b[0;36mbackward\u001b[0;34m(self, loss, *args, **kwargs)\u001b[0m\n\u001b[1;32m   1044\u001b[0m             \u001b[0mself\u001b[0m\u001b[0;34m.\u001b[0m\u001b[0m_fabric\u001b[0m\u001b[0;34m.\u001b[0m\u001b[0mbackward\u001b[0m\u001b[0;34m(\u001b[0m\u001b[0mloss\u001b[0m\u001b[0;34m,\u001b[0m \u001b[0;34m*\u001b[0m\u001b[0margs\u001b[0m\u001b[0;34m,\u001b[0m \u001b[0;34m**\u001b[0m\u001b[0mkwargs\u001b[0m\u001b[0;34m)\u001b[0m\u001b[0;34m\u001b[0m\u001b[0;34m\u001b[0m\u001b[0m\n\u001b[1;32m   1045\u001b[0m         \u001b[0;32melse\u001b[0m\u001b[0;34m:\u001b[0m\u001b[0;34m\u001b[0m\u001b[0;34m\u001b[0m\u001b[0m\n\u001b[0;32m-> 1046\u001b[0;31m             \u001b[0mloss\u001b[0m\u001b[0;34m.\u001b[0m\u001b[0mbackward\u001b[0m\u001b[0;34m(\u001b[0m\u001b[0;34m*\u001b[0m\u001b[0margs\u001b[0m\u001b[0;34m,\u001b[0m \u001b[0;34m**\u001b[0m\u001b[0mkwargs\u001b[0m\u001b[0;34m)\u001b[0m\u001b[0;34m\u001b[0m\u001b[0;34m\u001b[0m\u001b[0m\n\u001b[0m\u001b[1;32m   1047\u001b[0m \u001b[0;34m\u001b[0m\u001b[0m\n\u001b[1;32m   1048\u001b[0m     \u001b[0;32mdef\u001b[0m \u001b[0mtoggle_optimizer\u001b[0m\u001b[0;34m(\u001b[0m\u001b[0mself\u001b[0m\u001b[0;34m,\u001b[0m \u001b[0moptimizer\u001b[0m\u001b[0;34m:\u001b[0m \u001b[0mUnion\u001b[0m\u001b[0;34m[\u001b[0m\u001b[0mOptimizer\u001b[0m\u001b[0;34m,\u001b[0m \u001b[0mLightningOptimizer\u001b[0m\u001b[0;34m]\u001b[0m\u001b[0;34m)\u001b[0m \u001b[0;34m->\u001b[0m \u001b[0;32mNone\u001b[0m\u001b[0;34m:\u001b[0m\u001b[0;34m\u001b[0m\u001b[0;34m\u001b[0m\u001b[0m\n",
            "\u001b[0;32m/usr/local/lib/python3.10/dist-packages/torch/_tensor.py\u001b[0m in \u001b[0;36mbackward\u001b[0;34m(self, gradient, retain_graph, create_graph, inputs)\u001b[0m\n\u001b[1;32m    485\u001b[0m                 \u001b[0minputs\u001b[0m\u001b[0;34m=\u001b[0m\u001b[0minputs\u001b[0m\u001b[0;34m,\u001b[0m\u001b[0;34m\u001b[0m\u001b[0;34m\u001b[0m\u001b[0m\n\u001b[1;32m    486\u001b[0m             )\n\u001b[0;32m--> 487\u001b[0;31m         torch.autograd.backward(\n\u001b[0m\u001b[1;32m    488\u001b[0m             \u001b[0mself\u001b[0m\u001b[0;34m,\u001b[0m \u001b[0mgradient\u001b[0m\u001b[0;34m,\u001b[0m \u001b[0mretain_graph\u001b[0m\u001b[0;34m,\u001b[0m \u001b[0mcreate_graph\u001b[0m\u001b[0;34m,\u001b[0m \u001b[0minputs\u001b[0m\u001b[0;34m=\u001b[0m\u001b[0minputs\u001b[0m\u001b[0;34m\u001b[0m\u001b[0;34m\u001b[0m\u001b[0m\n\u001b[1;32m    489\u001b[0m         )\n",
            "\u001b[0;32m/usr/local/lib/python3.10/dist-packages/torch/autograd/__init__.py\u001b[0m in \u001b[0;36mbackward\u001b[0;34m(tensors, grad_tensors, retain_graph, create_graph, grad_variables, inputs)\u001b[0m\n\u001b[1;32m    198\u001b[0m     \u001b[0;31m# some Python versions print out the first line of a multi-line function\u001b[0m\u001b[0;34m\u001b[0m\u001b[0;34m\u001b[0m\u001b[0m\n\u001b[1;32m    199\u001b[0m     \u001b[0;31m# calls in the traceback and some print out the last line\u001b[0m\u001b[0;34m\u001b[0m\u001b[0;34m\u001b[0m\u001b[0m\n\u001b[0;32m--> 200\u001b[0;31m     Variable._execution_engine.run_backward(  # Calls into the C++ engine to run the backward pass\n\u001b[0m\u001b[1;32m    201\u001b[0m         \u001b[0mtensors\u001b[0m\u001b[0;34m,\u001b[0m \u001b[0mgrad_tensors_\u001b[0m\u001b[0;34m,\u001b[0m \u001b[0mretain_graph\u001b[0m\u001b[0;34m,\u001b[0m \u001b[0mcreate_graph\u001b[0m\u001b[0;34m,\u001b[0m \u001b[0minputs\u001b[0m\u001b[0;34m,\u001b[0m\u001b[0;34m\u001b[0m\u001b[0;34m\u001b[0m\u001b[0m\n\u001b[1;32m    202\u001b[0m         allow_unreachable=True, accumulate_grad=True)  # Calls into the C++ engine to run the backward pass\n",
            "\u001b[0;31mRuntimeError\u001b[0m: Found dtype Double but expected Float"
          ]
        }
      ]
    }
  ]
}